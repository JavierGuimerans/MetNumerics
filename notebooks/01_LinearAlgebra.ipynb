{
  "nbformat": 4,
  "nbformat_minor": 0,
  "metadata": {
    "colab": {
      "name": "10_LA_intro.ipynb",
      "version": "0.3.2",
      "provenance": [],
      "collapsed_sections": [
        "jcd9t2PT91JX",
        "ut6HhrrV91Jn",
        "B-bkgaUb91Jp",
        "Ej4Vc2ij91Ks",
        "hIVigLJ591K5",
        "NW5NuQt591LI",
        "EdBn7Pj691Ls",
        "JLL_G4v491Lv",
        "OYkcZ-QQ91Ly"
      ],
      "include_colab_link": true
    },
    "language_info": {
      "codemirror_mode": {
        "name": "ipython",
        "version": 3
      },
      "file_extension": ".py",
      "mimetype": "text/x-python",
      "name": "python",
      "nbconvert_exporter": "python",
      "pygments_lexer": "ipython3",
      "version": "3.6.7"
    },
    "kernelspec": {
      "display_name": "Python 3",
      "language": "python",
      "name": "python3"
    }
  },
  "cells": [
    {
      "cell_type": "markdown",
      "metadata": {
        "id": "view-in-github",
        "colab_type": "text"
      },
      "source": [
        "<a href=\"https://colab.research.google.com/github/sergiogf93/MetNumerics/blob/master/notebooks/01_LinearAlgebra.ipynb\" target=\"_parent\"><img src=\"https://colab.research.google.com/assets/colab-badge.svg\" alt=\"Open In Colab\"/></a>"
      ]
    },
    {
      "metadata": {
        "init_cell": true,
        "id": "4aRnMhof91Ij",
        "colab_type": "code",
        "colab": {}
      },
      "cell_type": "code",
      "source": [
        "%matplotlib inline\n",
        "%precision 3\n",
        "import numpy\n",
        "import matplotlib.pyplot as plt"
      ],
      "execution_count": 0,
      "outputs": []
    },
    {
      "metadata": {
        "id": "x-rNnIJN91Ir",
        "colab_type": "text"
      },
      "cell_type": "markdown",
      "source": [
        "# Àlgebra lineal numèrica\n",
        "\n",
        "Els mètodes numèrics en àlgebra lineal tenen un paper fonamental en molts problemes numèrics. En general, es poden reduir a problemes de dos tipus:\n",
        "\n",
        "* Resoldre un sistema d'equacions:\n",
        "\n",
        "$$A x = b$$\n",
        "\n",
        "* Resoldre un problema de valors propis:\n",
        "\n",
        "$$A v = \\lambda v.$$"
      ]
    },
    {
      "metadata": {
        "id": "ZCjX40_SgLcr",
        "colab_type": "text"
      },
      "cell_type": "markdown",
      "source": [
        "## Introducció a les matrius amb python"
      ]
    },
    {
      "metadata": {
        "id": "IW9jo5QlgeLW",
        "colab_type": "text"
      },
      "cell_type": "markdown",
      "source": [
        "Podem definir matrius a partir d'un array python que passem a numpy:"
      ]
    },
    {
      "metadata": {
        "id": "IlU1nVOEgPv5",
        "colab_type": "code",
        "colab": {}
      },
      "cell_type": "code",
      "source": [
        "matrix = [ [4,3], [6, 2] ]\n",
        "print('Python array:')\n",
        "print(matrix)\n",
        "\n",
        "np_matrix = numpy.array(matrix)\n",
        "\n",
        "print('Dimensions:', numpy.shape(np_matrix))\n",
        "print('Numpy:')\n",
        "print(np_matrix)"
      ],
      "execution_count": 0,
      "outputs": []
    },
    {
      "metadata": {
        "id": "ZuWgohp7gojQ",
        "colab_type": "text"
      },
      "cell_type": "markdown",
      "source": [
        "Podem fer utilitzar \\ per escriure en múltiples linies:"
      ]
    },
    {
      "metadata": {
        "id": "LBSThpqHgbgR",
        "colab_type": "code",
        "colab": {}
      },
      "cell_type": "code",
      "source": [
        "np_matrix_2 = numpy.array([\\\n",
        "                        [4,3],   \\\n",
        "                        [1, 2],  \\\n",
        "                        [-1, 4], \\\n",
        "                        [4, 2]   \\\n",
        "                        ])\n",
        "print(np_matrix_2)"
      ],
      "execution_count": 0,
      "outputs": []
    },
    {
      "metadata": {
        "id": "rwRGgYfvg3U6",
        "colab_type": "text"
      },
      "cell_type": "markdown",
      "source": [
        "També podem crear l'array en zeros i definir els valors manualment:"
      ]
    },
    {
      "metadata": {
        "id": "3PH1VIB4g74q",
        "colab_type": "code",
        "colab": {}
      },
      "cell_type": "code",
      "source": [
        "np_matrix_3 = numpy.zeros( (2, 10) )\n",
        "print(np_matrix_3)"
      ],
      "execution_count": 0,
      "outputs": []
    },
    {
      "metadata": {
        "id": "LQosMw48hDg8",
        "colab_type": "code",
        "colab": {}
      },
      "cell_type": "code",
      "source": [
        "np_matrix_3[:, 1] = 2\n",
        "print(np_matrix_3)"
      ],
      "execution_count": 0,
      "outputs": []
    },
    {
      "metadata": {
        "id": "fa3o5BeFhDVv",
        "colab_type": "code",
        "colab": {}
      },
      "cell_type": "code",
      "source": [
        "np_matrix_3[0, :] = -1\n",
        "print(np_matrix_3)"
      ],
      "execution_count": 0,
      "outputs": []
    },
    {
      "metadata": {
        "id": "3KU8LZFZhLbq",
        "colab_type": "code",
        "colab": {}
      },
      "cell_type": "code",
      "source": [
        "np_matrix_3[1, 6] = 43\n",
        "print(np_matrix_3)"
      ],
      "execution_count": 0,
      "outputs": []
    },
    {
      "metadata": {
        "id": "BfXipf9Qhr_K",
        "colab_type": "text"
      },
      "cell_type": "markdown",
      "source": [
        "**Funcions útils:**\n",
        "\n",
        "* Multiplicar matrius $A · B$\n",
        "\n",
        "```\n",
        "A.dot(B)\n",
        "numpy.dot(A,B)\n",
        "A @ B\n",
        "```\n",
        "\n",
        "* Trobar el rang d'una matriu $A$\n",
        "\n",
        "```\n",
        "numpy.linalg.matrix_rank(A)\n",
        "```\n",
        "\n",
        "* Trobar l'inversa d'una matriu $A$\n",
        "\n",
        "```\n",
        "numpy.linalg.inv(A)\n",
        "```\n",
        "\n",
        "\n",
        "\n",
        "\n"
      ]
    },
    {
      "metadata": {
        "id": "32DZi6KHidxi",
        "colab_type": "text"
      },
      "cell_type": "markdown",
      "source": [
        "#### Excercicis\n",
        "\n",
        "Per les matrius:\n",
        "\n",
        "\n",
        "\\begin{equation}\n",
        "    A = \\begin{bmatrix}\n",
        "        1 & 2 \\\\\n",
        "        3 & 4\n",
        "    \\end{bmatrix} , ~~~~~~\n",
        "    B = \\begin{bmatrix}\n",
        "        4 & 2 \\\\\n",
        "        2 & 1\n",
        "    \\end{bmatrix} , ~~~~~~\n",
        "    C = \\begin{bmatrix}\n",
        "        4 & 9 \\\\\n",
        "        4 & 9\n",
        "    \\end{bmatrix}\n",
        "\\end{equation}\n",
        "\n",
        "\n",
        "* Trobeu $A \\cdot B$\n",
        "* Trobeu $A^{-1}$\n",
        "* Trobeu el rang de $C$\n",
        "* Trobeu $X$ tal que $A \\cdot X = C$\n"
      ]
    },
    {
      "metadata": {
        "id": "AxgVRG9nj5_T",
        "colab_type": "code",
        "colab": {}
      },
      "cell_type": "code",
      "source": [
        "#1.\n",
        "\n",
        "#2.\n",
        "\n",
        "#3.\n",
        "\n",
        "#4."
      ],
      "execution_count": 0,
      "outputs": []
    },
    {
      "metadata": {
        "id": "ZMolTRnXkBe9",
        "colab_type": "code",
        "cellView": "form",
        "colab": {}
      },
      "cell_type": "code",
      "source": [
        "#@title\n",
        "A = numpy.array([[1,2],[3,4]])\n",
        "B = numpy.array([[4,2],[2,1]])\n",
        "C = numpy.array([[4,9],[4,9]])\n",
        "\n",
        "#1.\n",
        "print(\"1.\")\n",
        "print(A @ B)\n",
        "\n",
        "#2.\n",
        "print(\"\\n2.\")\n",
        "print(numpy.linalg.inv(A))\n",
        "print(numpy.round(numpy.linalg.inv(A).dot(A),0))\n",
        "\n",
        "#3.\n",
        "print(\"\\n3.\")\n",
        "print(\"rang(C) = {}\".format(numpy.linalg.matrix_rank(C)))\n",
        "\n",
        "#4.\n",
        "print(\"\\n4.\")\n",
        "print(numpy.dot(numpy.linalg.inv(A),C))\n",
        "print(A.dot(numpy.dot(numpy.linalg.inv(A),C)))"
      ],
      "execution_count": 0,
      "outputs": []
    },
    {
      "metadata": {
        "id": "345O14Sl91JD",
        "colab_type": "text"
      },
      "cell_type": "markdown",
      "source": [
        "### Problemes de valors propis\n",
        "\n",
        "Els problemes de valors propis són comuns a molts problemes científics o d'enginyeria. Recordeu que, si $A \\in \\mathbb{C}^{m\\times m}$, diem que un vector no nul $v\\in\\mathbb{C}^m$ és un **vector propi** de $A$ amb **valor propi** $\\lambda \\in \\mathbb{C}$ si\n",
        "\n",
        "$$A v = \\lambda v.$$\n"
      ]
    },
    {
      "metadata": {
        "id": "qo6phyvj91JF",
        "colab_type": "text"
      },
      "cell_type": "markdown",
      "source": [
        "#### Exemple\n",
        "\n",
        "Troba els valors propis de la matriu\n",
        "\n",
        "$$\n",
        "    A = \\begin{bmatrix}\n",
        "        1 & 2 \\\\\n",
        "        2 & 1\n",
        "    \\end{bmatrix}\n",
        "$$\n",
        "\n",
        "Recorda que es poden trobar els valors propis calculant $\\det(A - \\lambda I) = 0$.  "
      ]
    },
    {
      "metadata": {
        "id": "FCD6BIzn91JH",
        "colab_type": "text"
      },
      "cell_type": "markdown",
      "source": [
        "En aquest cas tenim\n",
        "$$\\begin{aligned}\n",
        "    A - \\lambda I &= \\begin{bmatrix}\n",
        "        1 & 2 \\\\\n",
        "        2 & 1\n",
        "    \\end{bmatrix} - \\begin{bmatrix} 1 & 0 \\\\ 0 & 1 \\end{bmatrix} \\lambda\\\\\n",
        "    &= \\begin{bmatrix}\n",
        "        1 - \\lambda & 2 \\\\\n",
        "        2 & 1 - \\lambda\n",
        "    \\end{bmatrix}\n",
        "\\end{aligned}$$\n",
        "el determinant és\n",
        "$$\\begin{aligned}\n",
        "\\begin{vmatrix}\n",
        "    1 - \\lambda & 2 \\\\\n",
        "    2 & 1 - \\lambda\n",
        "\\end{vmatrix} &= (1 - \\lambda) (1 - \\lambda) - 2 \\cdot 2 \\\\\n",
        "&= 1 - 2 \\lambda + \\lambda^2 - 4 \\\\\n",
        "&= \\lambda^2 - 2 \\lambda - 3.\n",
        "\\end{aligned}$$"
      ]
    },
    {
      "metadata": {
        "id": "g-bkNvhI91JI",
        "colab_type": "text"
      },
      "cell_type": "markdown",
      "source": [
        "Igualant a zero trobem els valors propis:\n",
        "$$\\begin{aligned}\n",
        "    & \\\\\n",
        "    \\lambda &= \\frac{2 \\pm \\sqrt{4 - 4 \\cdot 1 \\cdot (-3)}}{2} \\\\\n",
        "    &= 1 \\pm 2 \\\\\n",
        "    &= [-1, 3]\n",
        "\\end{aligned}$$"
      ]
    },
    {
      "metadata": {
        "id": "8mUfuPoe91JM",
        "colab_type": "text"
      },
      "cell_type": "markdown",
      "source": [
        "Si trobem ara els vectors propis per aquests valors propis tindrem:\n",
        "\n",
        "$$v = \\frac{1}{\\sqrt{2}}\\begin{bmatrix}1 \\\\ -1 \\end{bmatrix}, \\frac{1}{\\sqrt{2}}\\begin{bmatrix}1 \\\\ 1 \\end{bmatrix}.$$\n",
        "\n",
        "Noteu que són linealment independents."
      ]
    },
    {
      "metadata": {
        "id": "cUEHQcKzcYJH",
        "colab_type": "text"
      },
      "cell_type": "markdown",
      "source": [
        "#### Exercici\n",
        "\n",
        "Troba els valors i vectors propis de \n",
        "\n",
        "$$\n",
        "    A = \\begin{bmatrix}\n",
        "        1 & 2 \\\\\n",
        "        2 & 1\n",
        "    \\end{bmatrix}\n",
        "$$\n",
        "\n"
      ]
    },
    {
      "metadata": {
        "id": "p3ic9R4Ycl5S",
        "colab_type": "code",
        "colab": {}
      },
      "cell_type": "code",
      "source": [
        "?numpy.linalg.eig"
      ],
      "execution_count": 0,
      "outputs": []
    },
    {
      "metadata": {
        "id": "XYn-GGQPc_IB",
        "colab_type": "code",
        "colab": {}
      },
      "cell_type": "code",
      "source": [
        "# Troba els valors i vectors propis de [[1,2],[2,1]]"
      ],
      "execution_count": 0,
      "outputs": []
    },
    {
      "metadata": {
        "id": "PE3xP1APbwjY",
        "colab_type": "code",
        "cellView": "both",
        "colab": {}
      },
      "cell_type": "code",
      "source": [
        "#@title\n",
        "w, v = numpy.linalg.eig(numpy.array([[1, 2], [2, 1]]))\n",
        "print(w)\n",
        "print(v)"
      ],
      "execution_count": 0,
      "outputs": []
    },
    {
      "metadata": {
        "id": "BvL_vKCF91Iv",
        "colab_type": "text"
      },
      "cell_type": "markdown",
      "source": [
        "### Sistemes d'equacions\n",
        "\n",
        "Tenim $m$ equacions per $m$ incògnites\n",
        "\n",
        "$$A x = b$$"
      ]
    },
    {
      "metadata": {
        "id": "eYnMacio91Ix",
        "colab_type": "text"
      },
      "cell_type": "markdown",
      "source": [
        "#### Exemple: Matriu de Vandermonde\n",
        "\n",
        "Tenim les dades $(x_i, y_i), ~~ i = 1, 2, \\ldots, m$ que volem ajustar amb un polinomi d'ordre $m-1$. Resolent el sistema $A p = y$ trobaríem la resposta, on:\n",
        "\n",
        "$$A = \\begin{bmatrix}\n",
        "    1 & x_1 & x_1^2 & \\cdots & x_1^{m-1} \\\\\n",
        "    1 & x_2 & x_2^2 & \\cdots & x_2^{m-1} \\\\\n",
        "    \\vdots & \\vdots & \\vdots & & \\vdots \\\\\n",
        "    1 & x_m & x_m^2 & \\cdots & x_m^{m-1}\n",
        "\\end{bmatrix} \\quad \\quad y = \\begin{bmatrix}\n",
        "y_1 \\\\ y_2 \\\\ \\vdots \\\\ y_m\n",
        "\\end{bmatrix}$$\n",
        "\n",
        "i $p$ són els coeficients del polinomi interpolador $\\mathcal{P}_N(x) = p_0 + p_1 x + p_2 x^2 + \\cdots + p_m x^{m-1}$."
      ]
    },
    {
      "metadata": {
        "id": "VAvLTw4Z91Iz",
        "colab_type": "text"
      },
      "cell_type": "markdown",
      "source": [
        "#### Exemple: Mínims quadrats lineal 1\n",
        "\n",
        "Com al cas anterior, diguem que volem ajustar una funció particular a un nombre determinat de dades però en aquest cas tenim més dades que paràmetres lliures. En el cas d'un polinomi és el mateix que dir que tenim $m$ dades però només volem ajustar un polinomi d'ordre $n-1$ on $n-1 \\leq m$. Una manera típica de resoldre aquest problema és minimitzar l'error de mínims quadrats entre les dades i la funció:\n",
        "\n",
        "$$\n",
        "    E = \\left( \\sum^m_{i=1} |y_i - f(x_i)|^2 \\right )^{1/2}.\n",
        "$$"
      ]
    },
    {
      "metadata": {
        "id": "z2FrpX9y91I0",
        "colab_type": "text"
      },
      "cell_type": "markdown",
      "source": [
        "Però com ho podem fer si la nostra matriu $A$ ara és $m\\times n$:\n",
        "\n",
        "$$\n",
        "    A = \\begin{bmatrix}\n",
        "        1 & x_1 & x_1^2 & \\cdots & x_1^{n-1} \\\\\n",
        "        1 & x_2 & x_2^2 & \\cdots & x_2^{n-1} \\\\\n",
        "        \\vdots & \\vdots & \\vdots & & \\vdots \\\\\n",
        "        1 & x_m & x_m^2 & \\cdots & x_m^{n-1}\n",
        "    \\end{bmatrix}?\n",
        "$$\n",
        "\n",
        "Resulta que si resolem el sistema\n",
        "\n",
        "$$A^T A p = A^T y$$\n",
        "\n",
        "es pot garantir que l'error de mínims quadrats és minimitzat.\n",
        "\n",
        "**Nota:** S'afegeix $A^T$ per tenir una matriu quadrada, cosa que permet l'ús de llibreries com numpy per resoldre el sistema.\n"
      ]
    },
    {
      "metadata": {
        "id": "tRTzoe4J91I2",
        "colab_type": "text"
      },
      "cell_type": "markdown",
      "source": [
        "#### Exercici\n",
        "\n",
        "Ajusta una recta a unes dades que tinguin un soroll aleatori afegit.\n",
        "\n",
        "**Funcions útils:**\n",
        "\n",
        "* Per trobar el vector $p$ que resol un sistema $Ap = y$:\n",
        "```\n",
        " numpy.linalg.solve(A,y)\n",
        "```\n",
        "\n",
        "\n",
        "\n",
        "\n"
      ]
    },
    {
      "metadata": {
        "id": "FxTrH1JlESQR",
        "colab_type": "code",
        "colab": {}
      },
      "cell_type": "code",
      "source": [
        "?numpy.linalg.solve"
      ],
      "execution_count": 0,
      "outputs": []
    },
    {
      "metadata": {
        "id": "EyyqFrcj91I4",
        "colab_type": "code",
        "colab": {}
      },
      "cell_type": "code",
      "source": [
        "# Definim les dades\n",
        "N = 20\n",
        "x = numpy.linspace(-1.0, 1.0, N)\n",
        "y = x + numpy.random.random((N)) \n",
        "\n",
        "fig = plt.figure()\n",
        "axes = fig.add_subplot(1, 1, 1)\n",
        "\n",
        "axes.plot(x, y, 'ko')\n",
        "plt.show()\n",
        "\n",
        "# Troba p tal que A^T · A · p = A^T · y\n",
        "\n",
        "# Fes una gràfica amb els punts i el polinomi ajustat"
      ],
      "execution_count": 0,
      "outputs": []
    },
    {
      "metadata": {
        "id": "4TucGnWyEXp2",
        "colab_type": "code",
        "cellView": "form",
        "colab": {}
      },
      "cell_type": "code",
      "source": [
        "#@title\n",
        "# Definim les dades\n",
        "N = 20\n",
        "x = numpy.linspace(-1.0, 1.0, N)\n",
        "y = x + numpy.random.random((N)) \n",
        "\n",
        "fig = plt.figure()\n",
        "axes = fig.add_subplot(1, 1, 1)\n",
        "\n",
        "axes.plot(x, y, 'ko')\n",
        "\n",
        "A = numpy.ones((x.shape[0], 2))\n",
        "A[:, 1] = x\n",
        "p = numpy.linalg.solve(numpy.dot(A.transpose(), A), numpy.dot(A.transpose(), y))\n",
        "print(\"Error al pendent = %s, y-tall = %s\" % (numpy.abs(p[1] - 1.0), numpy.abs(p[0] - 0.5)))\n",
        "\n",
        "\n",
        "axes.plot(x, p[0] + p[1] * x, 'r')\n",
        "axes.set_title(\"Ajust de mínims quadrats\")\n",
        "axes.set_xlabel(\"$x$\")\n",
        "axes.set_ylabel(\"$f(x) = y_i$\")\n",
        "\n",
        "plt.show()"
      ],
      "execution_count": 0,
      "outputs": []
    },
    {
      "metadata": {
        "id": "_7C4qPJVnmiN",
        "colab_type": "text"
      },
      "cell_type": "markdown",
      "source": [
        "### Exercicis\n",
        "\n",
        "Resol el sistema:\n",
        "\n",
        "$$\\begin{array}{ll}\n",
        "3 x -  10 \\sin y &= -4t\\\\\n",
        "x - z &= 6t - 3 \\\\\n",
        "4t + 2z - 4\\sin y &= x - 4\\\\\n",
        "x + z + 2&= 3t \\\\\n",
        "\\end{array}$$"
      ]
    },
    {
      "metadata": {
        "id": "2KHReHugpGeC",
        "colab_type": "code",
        "colab": {}
      },
      "cell_type": "code",
      "source": [
        "# Resol el sistema"
      ],
      "execution_count": 0,
      "outputs": []
    },
    {
      "metadata": {
        "id": "iChWBbFOnmKi",
        "colab_type": "code",
        "cellView": "form",
        "colab": {}
      },
      "cell_type": "code",
      "source": [
        "#@title\n",
        "A = numpy.array([[3,-10,0,4],[1,0,-1,-6],[-1,-4,2,4],[1,0,1,-3]])\n",
        "y = numpy.array([0,-3,-4,-2])\n",
        "\n",
        "x = numpy.linalg.solve(A,y)\n",
        "print(numpy.round([x[0], numpy.arcsin(x[1]), x[2], x[3]],2))\n"
      ],
      "execution_count": 0,
      "outputs": []
    },
    {
      "metadata": {
        "id": "xGmlB6VopIoL",
        "colab_type": "text"
      },
      "cell_type": "markdown",
      "source": [
        "Troba els valors i els vectors propis de\n",
        "\n",
        "$$A = \\left[\\begin{array}{lcr}\n",
        "2 & 1 & 1\\\\\n",
        "2 & -4 & 2\\\\\n",
        "4 & 3 & -5\\\\\n",
        "\\end{array}\\right]$$\n",
        "\n"
      ]
    },
    {
      "metadata": {
        "id": "ddMoBRrmoKYw",
        "colab_type": "code",
        "colab": {}
      },
      "cell_type": "code",
      "source": [
        "# Resol l'exercici"
      ],
      "execution_count": 0,
      "outputs": []
    },
    {
      "metadata": {
        "id": "XQdlDTRXpTBj",
        "colab_type": "code",
        "cellView": "form",
        "colab": {}
      },
      "cell_type": "code",
      "source": [
        "#@title\n",
        "A = numpy.array([[2, 1, 1], [2, -4, 2], [4, 3, -5]])\n",
        "numpy.linalg.eig(A)"
      ],
      "execution_count": 0,
      "outputs": []
    },
    {
      "metadata": {
        "id": "uTTRYtlrpdmI",
        "colab_type": "text"
      },
      "cell_type": "markdown",
      "source": [
        "Troba els valors i els vectors propis de\n",
        "\n",
        "$$A = \\left[\\begin{array}{lcr}\n",
        "1 & 1 & 1 & 1 & 1 & 1 & 1 & 1 & 1 & 1 \\\\\n",
        "1 & 0 &1 & 0 & 1 & 0 & 1 & 0 & 1 & 0 & \\\\\n",
        "1 & 1 & 1 & 1 & 1 & 1 & 1 & 1 & 1 & 1 \\\\\n",
        "1 & 0 &1 & 0 & 1 & 0 & 1 & 0 & 1 & 0 & \\\\\n",
        "1 & 1 & 1 & 1 & 1 & 1 & 1 & 1 & 1 & 1 \\\\\n",
        "1 & 0 &1 & 0 & 1 & 0 & 1 & 0 & 1 & 0 & \\\\\n",
        "1 & 1 & 1 & 1 & 1 & 1 & 1 & 1 & 1 & 1 \\\\\n",
        "1 & 0 &1 & 0 & 1 & 0 & 1 & 0 & 1 & 0 & \\\\\n",
        "1 & 1 & 1 & 1 & 1 & 1 & 1 & 1 & 1 & 1 \\\\\n",
        "1 & 0 &1 & 0 & 1 & 0 & 1 & 0 & 1 & 0 & \\\\\n",
        "\\end{array}\\right]$$\n",
        "\n"
      ]
    },
    {
      "metadata": {
        "id": "xLyq0jDMpZnp",
        "colab_type": "code",
        "colab": {}
      },
      "cell_type": "code",
      "source": [
        ""
      ],
      "execution_count": 0,
      "outputs": []
    },
    {
      "metadata": {
        "id": "gxMio0bJpoUt",
        "colab_type": "code",
        "cellView": "form",
        "colab": {}
      },
      "cell_type": "code",
      "source": [
        "#@title\n",
        "A = numpy.ones( (10,10) )\n",
        "A[1:10:2,1:10:2] = 0\n",
        "print(A)\n",
        "print(numpy.linalg.eig(A))"
      ],
      "execution_count": 0,
      "outputs": []
    }
  ]
}