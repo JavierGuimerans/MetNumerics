{
  "nbformat": 4,
  "nbformat_minor": 0,
  "metadata": {
    "colab": {
      "name": "lecture_1.ipynb",
      "version": "0.3.2",
      "provenance": [],
      "collapsed_sections": [
        "rQfehUWN5Ugx",
        "JH0iHehA5Ug4",
        "s-x8MP5u5UhA",
        "T7cogylR5UhJ",
        "p-z-u0sZ5UhJ",
        "3DmFTTTh5UhO"
      ],
      "include_colab_link": true
    },
    "kernelspec": {
      "display_name": "Python 3",
      "language": "python",
      "name": "python3"
    }
  },
  "cells": [
    {
      "cell_type": "markdown",
      "metadata": {
        "id": "view-in-github",
        "colab_type": "text"
      },
      "source": [
        "<a href=\"https://colab.research.google.com/github/sergiogf93/MetNumerics/blob/master/notebooks/03_TLC.ipynb\" target=\"_parent\"><img src=\"https://colab.research.google.com/assets/colab-badge.svg\" alt=\"Open In Colab\"/></a>"
      ]
    },
    {
      "metadata": {
        "id": "MuITK0qq5Ues",
        "colab_type": "text"
      },
      "cell_type": "markdown",
      "source": [
        "Teorema del límit central\n",
        "====\n"
      ]
    },
    {
      "metadata": {
        "id": "EmAhOb8_5Uex",
        "colab_type": "text"
      },
      "cell_type": "markdown",
      "source": [
        "Per què són tan comuns les distribucions normals? És degut a que la suma de múltiples variables aleatòries es distribueix com una normal si:\n",
        "\n",
        "1. Les mitjes i les variàncies són finites.\n",
        "2. Tenim una quantitat suficient (unes 20).\n"
      ]
    },
    {
      "metadata": {
        "id": "GHbpQ4Dt5Ue1",
        "colab_type": "text"
      },
      "cell_type": "markdown",
      "source": [
        "Cada observació en la nostra distribució $x$ segueix:\n",
        "\n",
        "$$x = \\frac{1}{N} \\sum_i^N r_i$$\n",
        "\n",
        "on $r_i$ segueixen la mateixa o diferents distribucions. El TLC  diu que si $N$ és suficientment gran, $p(x) \\sim N(\\mu,\\sigma)$  independentment de les $p(r_i)$.\n"
      ]
    },
    {
      "metadata": {
        "id": "2w1cCBQi5Ue4",
        "colab_type": "code",
        "colab": {}
      },
      "cell_type": "code",
      "source": [
        "%matplotlib inline\n",
        "import random\n",
        "from scipy import stats as ss\n",
        "import numpy as np\n",
        "import matplotlib.pyplot as plt\n",
        "import matplotlib as mpl\n",
        "from math import sqrt, pi\n",
        "def normal_pdf(x, mu, sigma):\n",
        "    return 1 / (sigma * sqrt(2 * pi)) * np.exp(-(x - mu)**2 / (2. * sigma ** 2))\n",
        "mpl.style.use(['seaborn-notebook', 'seaborn-darkgrid'])\n"
      ],
      "execution_count": 0,
      "outputs": []
    },
    {
      "metadata": {
        "id": "PUEPjCO35Ue_",
        "colab_type": "text"
      },
      "cell_type": "markdown",
      "source": [
        "Demostració del TLC amb la distribució beta\n",
        "====\n",
        "\n",
        "Considerem el TLC amb només 1 distribució. Noteu que el TLC no és aplicable ja que $N=1$. Considerem l'única contribució una distribució beta:\n",
        "\n",
        "$$\n",
        "p(r_0) = \\frac{1}{Z}\\, r_0^{\\alpha - 1} \\,(1 - r_0)^{\\beta - 1}\n",
        "$$\n",
        "\n",
        "On $Z$, $\\alpha$, and $\\beta$ són paràmetres de la distribució beta. En aquest cas l'espai mostral és $[0,1]$. "
      ]
    },
    {
      "metadata": {
        "id": "NF3snbHn5UfC",
        "colab_type": "text"
      },
      "cell_type": "markdown",
      "source": [
        "Considerem la nostra equació mitjana:\n",
        "$$\n",
        "x = \\frac{1}{N} \\sum_i^N r_i\n",
        "$$\n",
        "\n",
        "\n",
        "Tenim $N = 1$. Quin aspecte tindrà $p(x)$? Serà normal?"
      ]
    },
    {
      "metadata": {
        "id": "VmYG9eek5UfG",
        "colab_type": "code",
        "cellView": "both",
        "colab": {}
      },
      "cell_type": "code",
      "source": [
        "data = np.empty(1000)\n",
        "#for 1000 times (enough to get a nice plot)\n",
        "for i in range(1000):\n",
        "    data[i] = ss.beta.rvs(0.5, 0.5) \n",
        "\n",
        "\n",
        "#histogram the samples\n",
        "plt.hist(data, bins=25)\n",
        "plt.title('Average with N = 1')\n",
        "\n",
        "#Show the plot. \n",
        "plt.show() "
      ],
      "execution_count": 0,
      "outputs": []
    },
    {
      "metadata": {
        "id": "1Fzg7DOR5UfQ",
        "colab_type": "text"
      },
      "cell_type": "markdown",
      "source": [
        "$N=1$ significa que per cada observació de $x$, tenim 1 contribució $r_i$ a la mitjana. En aquest cas, $x$ = $r_i$, però què passarà si $N=2$ on ambdós $r_1$ i $r_2$ segueixen la **mateixa** distribució beta?\n"
      ]
    },
    {
      "metadata": {
        "id": "ZYmX12C29ADh",
        "colab_type": "code",
        "colab": {}
      },
      "cell_type": "code",
      "source": [
        "#Escriu codi similar a l'anterior per generar 1000 valors r_1, r_2 que segueixin la distribució beta.\n",
        "\n",
        "#Fes un histograma de la variable x = (r_1 + r_2) / 2"
      ],
      "execution_count": 0,
      "outputs": []
    },
    {
      "metadata": {
        "id": "cNxNEyOI5UfS",
        "colab_type": "code",
        "cellView": "both",
        "colab": {}
      },
      "cell_type": "code",
      "source": [
        "#@title\n",
        "#Sample 2 beta numbers 1000 times\n",
        "N = 2\n",
        "data = np.empty(1000)\n",
        "for i in range(1000):\n",
        "    #Here's where we use the average equation\n",
        "    r_1 = ss.beta.rvs(0.5, 0.5)\n",
        "    r_2 = ss.beta.rvs(0.5, 0.5)\n",
        "    data[i] = (r_1 + r_2) / 2\n",
        "\n",
        "#histogram the samples with 25 bins\n",
        "plt.hist(data, bins=25)\n",
        "plt.title('Average with N = 2')\n",
        "plt.show() "
      ],
      "execution_count": 0,
      "outputs": []
    },
    {
      "metadata": {
        "id": "33adK48D5UfZ",
        "colab_type": "text"
      },
      "cell_type": "markdown",
      "source": [
        "Caram! Amb $N=2$ ja es comença a veure una normal. \n",
        "\n",
        "Probem amb $N=25$?"
      ]
    },
    {
      "metadata": {
        "id": "DIauOHm099Jl",
        "colab_type": "code",
        "colab": {}
      },
      "cell_type": "code",
      "source": [
        "#Fes el mateix ara amb 25 r_i que segueixen una distribució beta."
      ],
      "execution_count": 0,
      "outputs": []
    },
    {
      "metadata": {
        "id": "6jXRVyzN5Ufa",
        "colab_type": "code",
        "cellView": "both",
        "colab": {}
      },
      "cell_type": "code",
      "source": [
        "#@title\n",
        "#Sample 25 beta numbers 1000 times\n",
        "N = 25\n",
        "data = np.empty(1000)\n",
        "for i in range(1000):\n",
        "    #Here's where we use the average equation\n",
        "    #we'll do this more automatically using np.mean\n",
        "    rs = ss.beta.rvs(0.5, 0.5, size=N)\n",
        "    data[i] = np.mean(rs)\n",
        "\n",
        "#histogram the samples with 25 bins\n",
        "plt.hist(data, bins=25)\n",
        "plt.title('Average with N = 25')\n",
        "plt.show() "
      ],
      "execution_count": 0,
      "outputs": []
    },
    {
      "metadata": {
        "id": "-m7X21kN5Ufg",
        "colab_type": "text"
      },
      "cell_type": "markdown",
      "source": [
        "Ara ja es pot veure la distribució normal."
      ]
    },
    {
      "metadata": {
        "id": "-Dwjv1nW5Ufh",
        "colab_type": "text"
      },
      "cell_type": "markdown",
      "source": [
        "TLC amb múltiples binomials\n",
        "====\n",
        "\n",
        "Hem aconseguit moure'ns d'un espai mostral $[0,1]$  a un que sembla $(-\\infty, \\infty)$. El TLC també ha aconseguit converir la distribució beta, que té pics als extrems, en una normal. Increíble!\n",
        "\n",
        "Intentem fer encara més. Considerem mostres que segueixen un conjung de distribucions binomials i premen la seva mitjana. En aquest cas tindrem múltiples distribucions a sobre discretes!\n"
      ]
    },
    {
      "metadata": {
        "id": "rY5LUxuS5Ufj",
        "colab_type": "text"
      },
      "cell_type": "markdown",
      "source": [
        "Recordatori. Estem calculant:\n",
        "$$\n",
        "x = \\frac{1}{N} \\sum_i^N r_i\n",
        "$$\n",
        "\n",
        "on $r_i \\sim P_i(r_i)$, un conjunt de  distribucions binomial **diferents**."
      ]
    },
    {
      "metadata": {
        "id": "6R10nNYI_jz1",
        "colab_type": "text"
      },
      "cell_type": "markdown",
      "source": [
        "Com abans, comencem pel cas $N=1$"
      ]
    },
    {
      "metadata": {
        "id": "uKkQqNWJ5Ufk",
        "colab_type": "code",
        "colab": {}
      },
      "cell_type": "code",
      "source": [
        "N = 1\n",
        "\n",
        "#Create an array of p parameters to use for our distributions\n",
        "some_ps = np.random.random(N) \n",
        "\n",
        "#Create our M (trial number) parameters for binomial between 1 and 15.\n",
        "#We don't go past 15 because it's time consuming to compute the numbers\n",
        "some_Ms = np.random.randint(1, 15, N)\n",
        "\n",
        "#create a place to store our data\n",
        "data = []\n",
        "for i in range(10000):\n",
        "    point = 0\n",
        "    for j in range(N):\n",
        "         #We use the jth distribution parameters to sample\n",
        "        point += ss.binom.rvs(some_Ms[j], some_ps[j])\n",
        "    #We cast to float, since everything is done until now in integers\n",
        "    data.append(float(point) / N) "
      ],
      "execution_count": 0,
      "outputs": []
    },
    {
      "metadata": {
        "id": "QYE5ERNw5Ufo",
        "colab_type": "code",
        "colab": {}
      },
      "cell_type": "code",
      "source": [
        "plt.hist(data, 25)\n",
        "plt.title('CLT with 1 Binomial Dist')\n",
        "plt.show()"
      ],
      "execution_count": 0,
      "outputs": []
    },
    {
      "metadata": {
        "id": "Mo8NdVst5Uft",
        "colab_type": "text"
      },
      "cell_type": "markdown",
      "source": [
        "Com és esperat, observem una distribució binomial.\n",
        "\n",
        "Considerem el cas per $N=5$\n"
      ]
    },
    {
      "metadata": {
        "id": "egtLgXrR_z1t",
        "colab_type": "code",
        "colab": {}
      },
      "cell_type": "code",
      "source": [
        "#Fes servir el codi anterior per fer 5 binomials i construeix la variable x = mitjana de les binomials."
      ],
      "execution_count": 0,
      "outputs": []
    },
    {
      "metadata": {
        "id": "jICQOy_l5Ufu",
        "colab_type": "code",
        "cellView": "both",
        "colab": {}
      },
      "cell_type": "code",
      "source": [
        "#@title\n",
        "N = 5\n",
        "\n",
        "#Create an array of p parameters to use for our distributions\n",
        "some_ps = np.random.random(N) \n",
        "\n",
        "#Create our M (trial number) parameters for binomial between 1 and 15.\n",
        "#We don't go past 15 because it's time consuming to compute the numbers\n",
        "some_Ms = np.random.randint(1, 15, N)\n",
        "\n",
        "#create a place to store our data\n",
        "data = []\n",
        "for i in range(10000):\n",
        "    point = 0\n",
        "    for j in range(N):\n",
        "         #We use the jth distribution parameters to sample\n",
        "        point += ss.binom.rvs(some_Ms[j], some_ps[j])\n",
        "    #We cast to float, since everything is done until now in integers\n",
        "    data.append(float(point) / N) \n",
        "    \n",
        "plt.hist(data, 25)\n",
        "plt.title('CLT with 5 Binomial Dist')\n",
        "plt.show()"
      ],
      "execution_count": 0,
      "outputs": []
    },
    {
      "metadata": {
        "id": "eh61F17o5Uf4",
        "colab_type": "code",
        "cellView": "both",
        "colab": {}
      },
      "cell_type": "code",
      "source": [
        "#@title\n",
        "N = 25\n",
        "\n",
        "#Create an array of p parameters to use for our distributions\n",
        "some_ps = np.random.random(N) \n",
        "\n",
        "#Create our M (trial number) parameters for binomial between 1 and 15.\n",
        "#We don't go past 15 because it's time consuming to compute the numbers\n",
        "some_Ms = np.random.randint(1, 15, N)\n",
        "\n",
        "#create a place to store our data\n",
        "data = []\n",
        "for i in range(10000):\n",
        "    point = 0\n",
        "    for j in range(N):\n",
        "         #We use the jth distribution parameters to sample\n",
        "        point += ss.binom.rvs(some_Ms[j], some_ps[j])\n",
        "    #We cast to float, since everything is done until now in integers\n",
        "    data.append(float(point) / N) "
      ],
      "execution_count": 0,
      "outputs": []
    },
    {
      "metadata": {
        "id": "leERfdCq5Uf8",
        "colab_type": "code",
        "colab": {}
      },
      "cell_type": "code",
      "source": [
        "plt.hist(data, 25, density = True)\n",
        "mu = np.mean(data)\n",
        "sigma = np.std(data)\n",
        "x = np.linspace(mu - 5*sigma, mu + 5*sigma, 100)\n",
        "plt.plot(x,normal_pdf(x, mu, sigma), color = 'r')\n",
        "plt.title('CLT with 25 Binomial Dist')\n",
        "plt.show()"
      ],
      "execution_count": 0,
      "outputs": []
    },
    {
      "metadata": {
        "id": "Ki_mbgjv5UgB",
        "colab_type": "text"
      },
      "cell_type": "markdown",
      "source": [
        "Tot i que les distribucions són diferents i *discretes*, la seva mitjana es transforma en una distribució normal!\n"
      ]
    },
    {
      "metadata": {
        "id": "6KuE2Fwm5UgD",
        "colab_type": "text"
      },
      "cell_type": "markdown",
      "source": [
        "Qüestionari\n",
        "====\n",
        "Indica si el TLC és aplicable en els següents casos:\n",
        "* Mesureu les precipitacions a 25 països i fas la mitjana.\n",
        "* Calculeu la mitjana de precipitació en una ciutat particular pels 25 anys anteriors.\n",
        "* Mesureu la temperatura a partir de 20 termòmetres distribuïts a un reactor i feu la mitjana.\n",
        "* Mesureu les masses de 25 substàncies químiques.\n",
        "* Mengeu 25 caramels aleatòris cada dia i sumeu les calories.\n",
        "* Una mesura que té 20 fonts d'error diferent. \n",
        "* Una mesura no segueix una distribució normal. Fas la mesura 22 vegades i prens la mitjana."
      ]
    },
    {
      "metadata": {
        "id": "F1HXlvRo5UgG",
        "colab_type": "text"
      },
      "cell_type": "markdown",
      "source": [
        "Si, si, si, no (no es fa mitjana), si, si, si"
      ]
    },
    {
      "metadata": {
        "id": "YaDks8mF5UgJ",
        "colab_type": "text"
      },
      "cell_type": "markdown",
      "source": [
        "Descobrir la verdadera mitjana\n",
        "====\n",
        "\n",
        "Una aplicació important del TCL és descriure la distribució de les mijanes de mostres. Volem comparar mijanes mostrals amb les mitjanes de les poblacions, **$\\mu$**. \n",
        "\n",
        "La paraula \"població\" vol dir l'estadística d'una població sencera a partir d'una petita mostra. Podem pensar-hi com la pdf desconeguda que descriu les mostres que observem. Si calculem la mitjana a partir d'una mostra d'una població, vé descrita per:\n",
        "\n",
        "$$ p(\\bar{x})$$\n",
        "\n",
        "on $$\\bar{x} = \\frac{1}{N} \\sum_i^N x_i$$\n",
        "\n",
        "Nota que $p(\\bar{x})$ és normal degut al TLC!"
      ]
    },
    {
      "metadata": {
        "id": "nY7ekPf15UgN",
        "colab_type": "text"
      },
      "cell_type": "markdown",
      "source": [
        "Aquesta és una manera molt bonica de combinar l'estadística amb la teoria de probabilitat! Estem fent mitjanes mostrals d'una certa variable aleatòria $x_i$, que és un problema estadístic i estem describint quin aspecte tindrà el resultat a partir de la teoria de probabilitat.\n"
      ]
    },
    {
      "metadata": {
        "id": "rgHkN9UJ5UgO",
        "colab_type": "text"
      },
      "cell_type": "markdown",
      "source": [
        "Vegem com $p(\\bar{x})$ es distribueix. És una normal? Com canvia la desviació estàndard/variança? És funció del tamany de la mostra?"
      ]
    },
    {
      "metadata": {
        "id": "OdLSglz45UgQ",
        "colab_type": "text"
      },
      "cell_type": "markdown",
      "source": [
        "En comptes de derivar l'equació corresponent, escrivim un *programa* que calcula la mitjana.\n",
        "\n",
        "Aquest codi calcula $\\bar{x}$ múltiples vegades donat que coneixem la població real $\\mu$. Generarem moltes mostres de mida $N$ i calcularem $\\bar{x}$. Després farem l'histograma de totes les $\\bar{x}$."
      ]
    },
    {
      "metadata": {
        "id": "6-MRcTzX5UgR",
        "colab_type": "code",
        "colab": {}
      },
      "cell_type": "code",
      "source": [
        "def hist_means(N, mean=2, std_dev=3, bins=25, samples=10000):\n",
        "    data = [] #we store results here\n",
        "    #We're going through the process of computing a sample mean/var this many times\n",
        "    for i in range(samples):\n",
        "        #create N random samples.\n",
        "        random_samples = ss.norm.rvs(loc=mean, scale=std_dev, size=N)\n",
        "        #take their mean\n",
        "        sample_mean = np.mean(random_samples)\n",
        "        data.append(sample_mean)\n",
        "    #After generating the data, we histogram with the given bin number\n",
        "    hist, bins = np.histogram(data, bins, normed=True)\n",
        "    #We compute the centers of the bins by averaging the intervals\n",
        "    #that make up the bins\n",
        "    bin_centers = (bins[1:] + bins[:-1]) / 2.\n",
        "    return hist, bin_centers"
      ],
      "execution_count": 0,
      "outputs": []
    },
    {
      "metadata": {
        "id": "xc3y4jCC5UgU",
        "colab_type": "text"
      },
      "cell_type": "markdown",
      "source": [
        "Adona't que $\\mu = 2$"
      ]
    },
    {
      "metadata": {
        "id": "OPIRnuiV5UgV",
        "colab_type": "code",
        "colab": {}
      },
      "cell_type": "code",
      "source": [
        "hist, bin_centers = hist_means(N=25)\n",
        "plt.plot(bin_centers, hist)\n",
        "plt.title('Histogram of Sample Means with N = 25')\n",
        "plt.xlabel(r'$\\bar{x}$')\n",
        "plt.ylabel('Probability Density')\n",
        "plt.axvline(x=2)\n",
        "plt.show()"
      ],
      "execution_count": 0,
      "outputs": []
    },
    {
      "metadata": {
        "id": "G1c0mRCE5UgY",
        "colab_type": "text"
      },
      "cell_type": "markdown",
      "source": [
        "Com esperàvem, la distribució és normal amb $N=25$ mostres. A més a més, beiem que la distribució està centrada a $\\mu$! Així doncs, la nostra deducció per la distribució de $\\bar{x}$ és:\n",
        "\n",
        "**Suposició 1**:\n",
        "$$\n",
        "p(\\bar{x}) = \\mathcal{N}(\\mu, ?)\n",
        "$$"
      ]
    },
    {
      "metadata": {
        "id": "vnckOOe85UgZ",
        "colab_type": "text"
      },
      "cell_type": "markdown",
      "source": [
        "Per trobar la desviació estàndard de la mitjana mostral, provem a canviar la desviació estàndard de la *població*\n"
      ]
    },
    {
      "metadata": {
        "id": "TsRNJ6PZ5Uga",
        "colab_type": "code",
        "colab": {}
      },
      "cell_type": "code",
      "source": [
        "#These are the stddevs\n",
        "sigmas = [1, 2, 5, 10]\n",
        "#This creates a color function, using the summer palette\n",
        "color_map = plt.get_cmap(\"viridis\")\n",
        "#loop over sigmas\n",
        "for i in range(len(sigmas)):\n",
        "    #call our function above\n",
        "    hist, bin_centers = hist_means(25, mean=0, std_dev=sigmas[i])\n",
        "    #plot the results, label it, and use our color function to get a color\n",
        "    plt.plot(bin_centers, hist, color=color_map(i / len(sigmas)), label=\"$\\\\sigma={}$\".format(sigmas[i]))\n",
        "#add a plotting legend\n",
        "plt.legend()\n",
        "#set the x-axis limit\n",
        "plt.xlim(-3, 3)\n",
        "plt.show()"
      ],
      "execution_count": 0,
      "outputs": []
    },
    {
      "metadata": {
        "id": "X1uXW0Gl5Uge",
        "colab_type": "text"
      },
      "cell_type": "markdown",
      "source": [
        "Sembla que com més gran él la desviació estàndard de la *població*, més incertesa tenim en la nostra estimació de $\\mu$ que és $\\bar{x}$. Vegem si podem descriure analíticament aquesta relació. Suposem que:\n",
        "\n",
        "**Suposició 2:**\n",
        "$$\n",
        "p(\\bar{x}) \\propto \\mathcal{N}(\\mu, \\sigma)\n",
        "$$\n",
        "\n",
        "Estem suposant que el TLC ens dóna una distribució normal centrada a $\\mu$ amb la desviació estándard igual a la de la població. Podem comprovar-ho si calculem:\n",
        "\n",
        "$$\n",
        "Z = \\frac{x - \\mu}{\\sigma}\n",
        "$$"
      ]
    },
    {
      "metadata": {
        "id": "T3Dxh7qK5Ugf",
        "colab_type": "code",
        "colab": {}
      },
      "cell_type": "code",
      "source": [
        "def hist_means_scaled(N, mean=2, std_dev=3, bins=25, samples=10000):\n",
        "    data = []\n",
        "    for i in range(samples):\n",
        "        random_samples = ss.norm.rvs(loc=mean, scale=std_dev, size=N)\n",
        "        sample_mean = np.mean(random_samples)\n",
        "        #The change!\n",
        "        data.append((sample_mean - mean) / std_dev)\n",
        "    hist, bins = np.histogram(data, bins, normed=True)\n",
        "    bin_centers = (bins[1:] + bins[:-1]) / 2.\n",
        "    return hist, bin_centers"
      ],
      "execution_count": 0,
      "outputs": []
    },
    {
      "metadata": {
        "id": "DU6wEbTE5Ugh",
        "colab_type": "code",
        "colab": {}
      },
      "cell_type": "code",
      "source": [
        "sigmas = [1, 2, 5, 10]\n",
        "color_map = plt.get_cmap(\"viridis\")\n",
        "for i in range(len(sigmas)):\n",
        "    hist, bin_centers = hist_means_scaled(25, std_dev=sigmas[i])\n",
        "    plt.plot(bin_centers, hist, color=color_map(i / len(sigmas)), label=\"$\\\\sigma={}$\".format(sigmas[i]))\n",
        "plt.legend()\n",
        "plt.xlim(-3, 3)\n",
        "plt.show()"
      ],
      "execution_count": 0,
      "outputs": []
    },
    {
      "metadata": {
        "id": "Agkx-PWP5Ugl",
        "colab_type": "text"
      },
      "cell_type": "markdown",
      "source": [
        "Perfecte! Ara sabem com descriure $p(\\bar{x})$. Tot i això, encara no hem considerat l'efecte del mombre de mostres! Com afecta $N$?\n"
      ]
    },
    {
      "metadata": {
        "id": "TS171VUT5Ugn",
        "colab_type": "code",
        "colab": {}
      },
      "cell_type": "code",
      "source": [
        "#These are the sample sizes we'll try out\n",
        "Ns = [5, 10, 15, 20, 100]\n",
        "color_map = plt.get_cmap(\"viridis\")\n",
        "for i in range(len(Ns)):\n",
        "    hist, bin_centers = hist_means_scaled(Ns[i])\n",
        "    plt.plot(bin_centers, hist, color=color_map(i / len(Ns)), label=\"$N={}$\".format(Ns[i]))\n",
        "plt.legend()\n",
        "plt.xlim(-3, 3)\n",
        "plt.show()"
      ],
      "execution_count": 0,
      "outputs": []
    },
    {
      "metadata": {
        "id": "wSdoikpe5Ugr",
        "colab_type": "text"
      },
      "cell_type": "markdown",
      "source": [
        "Sembla que hi ha un efecte d'escala. Sembla que és similar a:\n",
        "\n",
        "$$\n",
        "p(\\bar{x}) = \\mathcal{N}\\left(\\mu, \\frac{\\sigma}{\\sqrt{N}}\\right)\n",
        "$$\n",
        "\n",
        "Aquesta és, de fet, la resposta correcte."
      ]
    },
    {
      "metadata": {
        "id": "s1K-JSTgMy4L",
        "colab_type": "code",
        "colab": {}
      },
      "cell_type": "code",
      "source": [
        "# Comprova que p(bar(x)) = N(mu,sigma/sqrt(N))"
      ],
      "execution_count": 0,
      "outputs": []
    },
    {
      "metadata": {
        "id": "cMM-bTQZL_hc",
        "colab_type": "code",
        "cellView": "form",
        "colab": {}
      },
      "cell_type": "code",
      "source": [
        "#@title\n",
        "def hist_means_scaled_version2(N, mean=2, std_dev=3, bins=25, samples=10000):\n",
        "    data = []\n",
        "    for i in range(samples):\n",
        "        random_samples = ss.norm.rvs(loc=mean, scale=std_dev, size=N)\n",
        "        sample_mean = np.mean(random_samples)\n",
        "        #The change!\n",
        "        data.append(sqrt(N) * (sample_mean - mean) / std_dev)\n",
        "    hist, bins = np.histogram(data, bins, normed=True)\n",
        "    bin_centers = (bins[1:] + bins[:-1]) / 2.\n",
        "    return hist, bin_centers"
      ],
      "execution_count": 0,
      "outputs": []
    },
    {
      "metadata": {
        "id": "UMORNT7EMrBC",
        "colab_type": "code",
        "cellView": "form",
        "colab": {}
      },
      "cell_type": "code",
      "source": [
        "#@title\n",
        "Ns = [5, 10, 15, 20, 100]\n",
        "color_map = plt.get_cmap(\"viridis\")\n",
        "for i in range(len(Ns)):\n",
        "    hist, bin_centers = hist_means_scaled_version2(Ns[i])\n",
        "    plt.plot(bin_centers, hist, color=color_map(i / len(Ns)), label=\"$N={}$\".format(Ns[i]))\n",
        "plt.legend()\n",
        "plt.xlim(-3, 3)\n",
        "plt.show()"
      ],
      "execution_count": 0,
      "outputs": []
    },
    {
      "metadata": {
        "id": "JMhlOyja5Ugs",
        "colab_type": "text"
      },
      "cell_type": "markdown",
      "source": [
        "Típicament, volem calcular la incertesa en la mitjana mostral. Això és, $p(\\bar{x} - \\mu)$. Pel que hem deduït abans:\n",
        "\n",
        "$$\n",
        "p(\\bar{x} - \\mu) = \\mathcal{N}\\left(0, \\frac{\\sigma}{\\sqrt{N}}\\right)\n",
        "$$\n",
        "\n",
        "Una característica interessant és que podem veure tant $\\bar{x}$ com $\\mu$ com la variable. Si veiem $\\mu$ com la variable, estem descrivint on pensem que la mitjana de la població pot estar. D'altra banda, si veiem $\\bar{x}$ com la variable, estem descrivint on creiem que es trobarà la nostra mitjana mostral una vegada prenem la mostra.\n",
        "an will be if we take a sample."
      ]
    },
    {
      "metadata": {
        "id": "NcN3-ah15Ugw",
        "colab_type": "text"
      },
      "cell_type": "markdown",
      "source": [
        "L'error en la mitjana de la població és una distribució normal ${\\cal N} (0, \\sigma / \\sqrt{N})$ on $\\sigma$ és la verdadera $\\sigma$ de la població. Normalment anomenem la desviació estàndard d'aquesta distribució l'\"error estàndard\":\n",
        "\n",
        "$$\\sigma_e = \\frac{\\sigma}{\\sqrt{N}} $$"
      ]
    },
    {
      "metadata": {
        "id": "rQfehUWN5Ugx",
        "colab_type": "text"
      },
      "cell_type": "markdown",
      "source": [
        "Analytical Equation for Error in Population Mean\n",
        "----\n",
        "\n",
        "We saw above how things look when we histogram and sample. That gave us an empirical look at how the sample mean varies relative to the population mean. Let's now see our analytical equation above compare with the histograms."
      ]
    },
    {
      "metadata": {
        "id": "KL2TOMsl5Ugy",
        "colab_type": "text"
      },
      "cell_type": "markdown",
      "source": [
        "As stated above, using our sample mean to estimate our population mean leads to a probability distribution:\n",
        "\n",
        "$$\n",
        "p(\\bar{x} - \\mu) = \\mathcal{N}(0, \\sigma / \\sqrt{N}) = \\frac{1}{2\\sqrt{\\frac{\\sigma^2 \\pi} {N 2}}} e^{-\\frac{\\left(\\bar{x} - \\mu\\right)^2}{2\\sigma^2 / N}}\n",
        "$$\n",
        "\n",
        "**where now we'll take the independent variable as the population mean ($\\mu$)**"
      ]
    },
    {
      "metadata": {
        "id": "rADMDXyL5Ugz",
        "colab_type": "text"
      },
      "cell_type": "markdown",
      "source": [
        "Let's compare our empirical estimates above to this:"
      ]
    },
    {
      "metadata": {
        "id": "XzXs6W995Ug0",
        "colab_type": "code",
        "outputId": "22bda6c0-e0c6-4172-e39a-7179d57a3fb4",
        "colab": {}
      },
      "cell_type": "code",
      "source": [
        "pop_std = 1\n",
        "\n",
        "#this is the code from above\n",
        "for i in range(len(Ns)):\n",
        "    Ni = Ns[i]\n",
        "    hist, bin_centers = hist_means_scaled(Ni, std_dev=pop_std, samples=25000)    \n",
        "    plt.plot(bin_centers, hist, color=color_map(i / len(Ns)), label=\"$N={}$\".format(Ni))\n",
        "    #plot analytic\n",
        "    #make some points that span the high-probability density values\n",
        "    standard_error = pop_std / np.sqrt(Ni)\n",
        "    x = np.linspace(- 5*standard_error, 5 * standard_error, 500)\n",
        "    plt.plot(x, ss.norm.pdf(x, scale=standard_error), color=color_map(i / len(Ns)), label=\"Analytic $N={}$\".format(Ni), linestyle='--')\n",
        "plt.legend()\n",
        "plt.xlim(-1, 1)\n",
        "plt.show()"
      ],
      "execution_count": 0,
      "outputs": [
        {
          "output_type": "display_data",
          "data": {
            "image/png": "[encoded data removed]",
            "text/plain": [
              "<matplotlib.figure.Figure at 0x7f5e56d95780>"
            ]
          },
          "metadata": {
            "tags": []
          }
        }
      ]
    },
    {
      "metadata": {
        "id": "kexS6ad05Ug3",
        "colab_type": "text"
      },
      "cell_type": "markdown",
      "source": [
        "So it is true that $p(\\bar{x} - \\mu)$ follows a normal distribution when we know the population standard deviation!"
      ]
    },
    {
      "metadata": {
        "id": "JH0iHehA5Ug4",
        "colab_type": "text"
      },
      "cell_type": "markdown",
      "source": [
        "Error en la mitjana de la població - Probleme exemple\n",
        "====\n",
        "\n",
        "Coneixem $\\sigma = 0.2$ per un equilibri químic. Per calibrar les micro-pipetes hem de mesurar la massa d'un volum d'aigua. Mesurem 1 ml d'aigua 20 vegades i obtenim que la mitjana mostral $\\bar{x} = 1.001$g. Quina és la probabilitat que la mitjana de la població $\\mu$ es trobi a 0.001 g de la mitjana mostral?  \n"
      ]
    },
    {
      "metadata": {
        "id": "1dLQdhrn5Ug6",
        "colab_type": "text"
      },
      "cell_type": "markdown",
      "source": [
        "Això és una distribució normal ${\\cal N} (0, \\sqrt{0.2^2 / 20})$ i volem l'interval entre -0.001 i 0.001."
      ]
    },
    {
      "metadata": {
        "id": "Vn5zlgkL5Ug7",
        "colab_type": "text"
      },
      "cell_type": "markdown",
      "source": [
        "$\\DeclareMathOperator{\\erf}{erf}$\n",
        "$\\DeclareMathOperator{\\cdf}{CDF}$\n",
        "$$\\int_{Z_1}^{Z_2} {\\cal N}(0, 1) = \\cdf(Z_2) - \\cdf(Z_1)$$"
      ]
    },
    {
      "metadata": {
        "id": "1BFWfv-_5Ug8",
        "colab_type": "code",
        "colab": {}
      },
      "cell_type": "code",
      "source": [
        "from math import sqrt\n",
        "\n",
        "sigma = sqrt(0.2**2 / 20)\n",
        "Z1 = -0.001 / sigma\n",
        "Z2 = -Z1\n",
        "\n",
        "print( ss.norm.cdf(Z2) - ss.norm.cdf(Z1))"
      ],
      "execution_count": 0,
      "outputs": []
    },
    {
      "metadata": {
        "id": "s-x8MP5u5UhA",
        "colab_type": "text"
      },
      "cell_type": "markdown",
      "source": [
        "Desviació estàndard de la població desconeguda\n",
        "====\n",
        "\n",
        "Què passa si no tenim la variança o la desviació estàndard de la població i n'estem fent una estimació al mateix temps? Anem a veure si encara és normal.\n",
        "\n",
        "**A partir d'ara inclourem el terme $1/N$ que hem observat prèviament per tal de treure la influència de la mida de la mostra**"
      ]
    },
    {
      "metadata": {
        "id": "iY49-aUr5UhB",
        "colab_type": "code",
        "colab": {}
      },
      "cell_type": "code",
      "source": [
        "def make_hist(N, mean=12, std_dev=3, bins=25, samples=100000):\n",
        "    data = []\n",
        "    for i in range(samples):\n",
        "        random_samples = np.random.normal(mean, std_dev, N) \n",
        "        sample_mean = np.mean(random_samples)\n",
        "        sample_var = np.var(random_samples) * (N / (N - 1.0))\n",
        "        #We add the sqrt(N) dependence below\n",
        "        data.append((sample_mean - mean) / (sqrt(sample_var) / sqrt(N)))\n",
        "    hist, bins = np.histogram(data, bins = np.linspace(-3, 3, bins))\n",
        "    bin_centers = (bins[1:] + bins[:-1]) / 2.\n",
        "    #This line we changed so that we're working in probability, not counts.\n",
        "    return hist / samples, bin_centers"
      ],
      "execution_count": 0,
      "outputs": []
    },
    {
      "metadata": {
        "id": "hhUpDQZF5UhE",
        "colab_type": "code",
        "outputId": "59e4d510-7435-421c-83a7-8e8fe8ea5881",
        "colab": {
          "base_uri": "https://localhost:8080/",
          "height": 347
        }
      },
      "cell_type": "code",
      "source": [
        "Ns = [3, 5, 10, 25, 100]\n",
        "color_map = plt.get_cmap('summer')\n",
        "for i in range(len(Ns)):\n",
        "    Ni = Ns[i]\n",
        "    hist, bin_centers = make_hist(Ni, std_dev=1)\n",
        "    plt.plot(bin_centers, hist, color=color_map(i / len(Ns)), label='$N={}$'.format(Ni))\n",
        "\n",
        "from math import erf\n",
        "x = np.linspace(-3,3,25)\n",
        "#The extra factor is to scale the pdf to match our data\n",
        "plt.plot(x,normal_pdf(x, 0, 1) / (erf(3 / sqrt(2)) - \\\n",
        "                                  erf(-3 / sqrt(2))) / 2,\n",
        "         label=\"Normal\", color='red')\n",
        "    \n",
        "plt.legend()\n",
        "plt.show()"
      ],
      "execution_count": 0,
      "outputs": [
        {
          "output_type": "display_data",
          "data": {
            "image/png": "[encoded data removed]",
            "text/plain": [
              "<Figure size 576x396 with 1 Axes>"
            ]
          },
          "metadata": {
            "tags": []
          }
        }
      ]
    },
    {
      "metadata": {
        "id": "T7cogylR5UhJ",
        "colab_type": "text"
      },
      "cell_type": "markdown",
      "source": [
        "Les desviacions estàndard i mitjanes desconegudes compleixen el TCL?\n",
        "====\n",
        "\n",
        "**No fins ~25 mostres**. Si la mida de la mostra és més petita, assumir una distribució normal dóna intervals conservadors. Noteu que el TCL es pot aplicar quan coneixem la $\\sigma$ de la població. No funciona si la mida de la mostra és petita ni quan estem fent estimacions de la mitjana i de la desviació estàndard de la mostra.\n"
      ]
    },
    {
      "metadata": {
        "id": "p-z-u0sZ5UhJ",
        "colab_type": "text"
      },
      "cell_type": "markdown",
      "source": [
        "Distribució t-Student\n",
        "====\n",
        "\n",
        "La distribució que descriu la distància entre les mitjanes mostral i poblacional quan no coneixem la desviació estàndard és la t-Student."
      ]
    },
    {
      "metadata": {
        "id": "QU5z-62j5UhK",
        "colab_type": "text"
      },
      "cell_type": "markdown",
      "source": [
        "\n",
        "\n",
        "$p(\\mu - \\bar{x})$  segueix una t-Student amb  $\\sigma_e = \\sigma_x / \\sqrt{N}$. \n",
        "\n",
        "\n",
        "$$T(0, \\sigma_x / \\sqrt{N}, N - 1)$$\n",
        "\n",
        "Noteu que hi ha un paràmetre més, $N - 1$. Això són els graus de llibertat. "
      ]
    },
    {
      "metadata": {
        "id": "_Zs3KESZ5UhL",
        "colab_type": "code",
        "outputId": "bde49791-b3e2-412e-e237-14445d089410",
        "colab": {
          "base_uri": "https://localhost:8080/",
          "height": 347
        }
      },
      "cell_type": "code",
      "source": [
        "import scipy.stats\n",
        "\n",
        "#make some points\n",
        "x = np.linspace(-5,5, 100)\n",
        "\n",
        "#Compute pdf on t and normal\n",
        "yn = scipy.stats.norm.pdf(x)\n",
        "for i,Ni in enumerate(Ns):\n",
        "    y = scipy.stats.t.pdf(x, df=Ni-1)\n",
        "    plt.plot(x,y,color=color_map(i / len(Ns)),label=\"T, N = {}\".format(Ni))    \n",
        "plt.plot(x,yn, color='r',label=\"Normal\")\n",
        "plt.legend()\n",
        "\n",
        "plt.show()"
      ],
      "execution_count": 0,
      "outputs": [
        {
          "output_type": "display_data",
          "data": {
            "image/png": "[encoded data removed]",
            "text/plain": [
              "<Figure size 576x396 with 1 Axes>"
            ]
          },
          "metadata": {
            "tags": []
          }
        }
      ]
    },
    {
      "metadata": {
        "id": "3DmFTTTh5UhO",
        "colab_type": "text"
      },
      "cell_type": "markdown",
      "source": [
        "Resum\n",
        "====\n",
        "\n",
        "Estimar la mitjana de la població a partir de la mitjana mostral és una distribució aleatòria. La mitjana mostral $\\bar{x}$, és un estadístic i $\\mu$ és una variable aleatòria que segueix o bé una normal, o bé una t-Student.\n"
      ]
    },
    {
      "metadata": {
        "id": "e2jMY4ZS5UhS",
        "colab_type": "text"
      },
      "cell_type": "markdown",
      "source": [
        "Quan coneixem la desviació estándard de la població, $p(\\mu) = {\\mathcal N}(\\bar{x}, \\sigma / \\sqrt{N})$ on $N$ és el nombre de mostres utilitzades per calcular la mitjana mostral i $\\sigma$ és la desviació estándard de la població."
      ]
    },
    {
      "metadata": {
        "id": "ZD6257xR5UhT",
        "colab_type": "text"
      },
      "cell_type": "markdown",
      "source": [
        "Quan no coneixem la desviació estándard de la població, hi ha un error adicional degut a que estem estimant la desviació estándard de la població a partir de la desviació estándard de la mostra. \n",
        "\n",
        "Si $\\sigma_x$ és la desviació estándard de la mostra: $p(\\mu) = T(\\bar{x}, \\sigma_x / \\sqrt{N}, N-1)$. Noteu que la  $t$-Student depèn del nombre de mostres. El tercer terme, N-1, són els graus de llibertat."
      ]
    },
    {
      "metadata": {
        "id": "PVy5Qxwu5UhU",
        "colab_type": "text"
      },
      "cell_type": "markdown",
      "source": [
        "Ara que coneixem la distribució de la mitjana de la mostra, podem calcular intervals de confiança o fer gràfiques de les densitats de probabilitat.\n"
      ]
    }
  ]
}