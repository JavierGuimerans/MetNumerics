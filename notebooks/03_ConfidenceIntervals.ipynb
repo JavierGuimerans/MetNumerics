{
  "nbformat": 4,
  "nbformat_minor": 0,
  "metadata": {
    "colab": {
      "name": "lecture_2.ipynb",
      "version": "0.3.2",
      "provenance": [],
      "collapsed_sections": [],
      "include_colab_link": true
    },
    "kernelspec": {
      "display_name": "Python 3",
      "language": "python",
      "name": "python3"
    }
  },
  "cells": [
    {
      "cell_type": "markdown",
      "metadata": {
        "id": "view-in-github",
        "colab_type": "text"
      },
      "source": [
        "<a href=\"https://colab.research.google.com/github/sergiogf93/MetNumerics/blob/master/notebooks/02_ConfidenceIntervals.ipynb\" target=\"_parent\"><img src=\"https://colab.research.google.com/assets/colab-badge.svg\" alt=\"Open In Colab\"/></a>"
      ]
    },
    {
      "metadata": {
        "id": "h-BkHE9K46gd",
        "colab_type": "text"
      },
      "cell_type": "markdown",
      "source": [
        "Computació d'intervals de confiança\n",
        "===\n",
        "\n",
        "Sabem que l'error de la mitjana d'una població segueix una $t$-Student per $N$ petit. Què fem si volem un interval de confiança on es trobi el valor real de la mitjana?\n"
      ]
    },
    {
      "metadata": {
        "id": "_fBJzezq46gf",
        "colab_type": "text"
      },
      "cell_type": "markdown",
      "source": [
        "$$P(a < \\mu < b) = 0.95$$\n",
        "\n",
        "Una simplificació immediata que podem fer és que sabem que $\\mu$ estarà centrada a $\\bar{x}$ simètricament.\n",
        "\n",
        "$$P( \\bar{x} - y < \\mu<  \\bar{x} + y) = 0.95$$\n",
        "\n",
        "on $y$ és un nombre que volem trobar. Això es pot rescriure com:\n",
        "\n",
        "$$P( - y < \\mu - \\bar{x}<  + y) = 0.95$$\n",
        "\n",
        "que sabem que està distribuït com la $t$-Student. Noteu que això són probabilitats, que corresponen a l'integral de la densitat de probabilitat.\n"
      ]
    },
    {
      "metadata": {
        "id": "VFYKyKqL46gg",
        "colab_type": "text"
      },
      "cell_type": "markdown",
      "source": [
        "A continació visualitzem quin és l'objectiu. Noteu que aquí es troba la resposta al problema per poder fer la gràfica així que espereu fins més tard per entendre el codi!\n"
      ]
    },
    {
      "metadata": {
        "id": "qP1tuo3646gh",
        "colab_type": "code",
        "outputId": "72bde313-9096-4b6c-fdde-7391bff06ff7",
        "colab": {
          "base_uri": "https://localhost:8080/",
          "height": 365
        }
      },
      "cell_type": "code",
      "source": [
        "import scipy.stats as ss\n",
        "import numpy as np\n",
        "import matplotlib.pyplot as plt\n",
        "\n",
        "#make some points for plot\n",
        "N = 5\n",
        "x = np.linspace(-5,5, 1000)\n",
        "T = ss.t.ppf(0.975, df=N-1)\n",
        "y = ss.t.pdf(x, df=N-1)\n",
        "plt.plot(x,y)  \n",
        "plt.fill_between(x, y, where= np.abs(x) < T)\n",
        "plt.text(0,np.max(y) / 3, 'Area=0.95', fontdict={'size':14}, horizontalalignment='center')\n",
        "plt.axvline(T, linestyle='--', color='orange')\n",
        "plt.axvline(-T, linestyle='--', color='orange')\n",
        "plt.xticks([-T, T], ['-y', 'y'])\n",
        "plt.yticks([])\n",
        "plt.ylabel(r'$p(\\mu - \\bar{x})$')\n",
        "plt.xlabel(r'$\\mu - \\bar{x}$')\n",
        "plt.show()"
      ],
      "execution_count": 0,
      "outputs": [
        {
          "output_type": "display_data",
          "data": {
            "image/png": "[encoded data removed]",
            "text/plain": [
              "<Figure size 576x396 with 1 Axes>"
            ]
          },
          "metadata": {
            "tags": []
          }
        }
      ]
    },
    {
      "metadata": {
        "id": "MhpAuQOY46gq",
        "colab_type": "text"
      },
      "cell_type": "markdown",
      "source": [
        "La idea és que sabem que $p(\\mu - \\bar{x} \\sim T(0, \\sigma_x /\\sqrt{N})$ i per tant necessitem el percentil $Z$ corresponent al nivell de confianá que volem.\n"
      ]
    },
    {
      "metadata": {
        "id": "n2e4IdDw46gr",
        "colab_type": "text"
      },
      "cell_type": "markdown",
      "source": [
        "\n",
        "\n",
        "$$T(s) = \\frac{s - 0}{\\sigma_x / \\sqrt{N}}$$\n",
        "\n",
        "La mitjana del error en la distribució de la mitjana de la població és 0, ja que el nostre error en la mitjana de la població està semple centrat a 0."
      ]
    },
    {
      "metadata": {
        "id": "hUuK7Tzd46gs",
        "colab_type": "text"
      },
      "cell_type": "markdown",
      "source": [
        "Suposem que després de pendre 4 mostres, hem trobat que la mitjana mostral és 45 i que la desviació estàndard de la mostra és $\\sigma_x = 3$. Quin és l'interval de confiança de $\\mu$ a un nivell de confiança del 95%?"
      ]
    },
    {
      "metadata": {
        "id": "2Ki3c1he46gu",
        "colab_type": "text"
      },
      "cell_type": "markdown",
      "source": [
        "Com hem vist abans:\n",
        "\n",
        "$$P(- y < \\mu - \\bar{x} < +y) = 0.95$$"
      ]
    },
    {
      "metadata": {
        "id": "hEuMR43m46gv",
        "colab_type": "text"
      },
      "cell_type": "markdown",
      "source": [
        "El nostre interval anirà de 2.5% a 97.5% (95% de probabilitat), així doncs, hem de trobar el $T$-valor per $[-\\infty,2.5]$ i de $[97.5, \\infty]$. Recordeu que el $T$-valor depèn dels graus de llibertat N-1."
      ]
    },
    {
      "metadata": {
        "id": "865Fkg-o46gw",
        "colab_type": "code",
        "outputId": "99d4f5f7-025d-4922-bf21-bbb2e4f02969",
        "colab": {
          "base_uri": "https://localhost:8080/",
          "height": 51
        }
      },
      "cell_type": "code",
      "source": [
        "import scipy.stats\n",
        "\n",
        "#The lower T Value. YOU MUST GIVE THE SAMPLE NUMBER\n",
        "print(scipy.stats.t.ppf(0.025, 4))\n",
        "print(scipy.stats.t.ppf(0.975, 4))"
      ],
      "execution_count": 0,
      "outputs": [
        {
          "output_type": "stream",
          "text": [
            "-2.7764451051977996\n",
            "2.7764451051977987\n"
          ],
          "name": "stdout"
        }
      ]
    },
    {
      "metadata": {
        "id": "Oq_5LiGy46g1",
        "colab_type": "text"
      },
      "cell_type": "markdown",
      "source": [
        "$$T_{low} = \\frac{-y - 0}{\\sigma_x / \\sqrt{N}}$$\n",
        "$$T_{low} = -\\frac{y}{\\sigma_x / \\sqrt{N}}$$"
      ]
    },
    {
      "metadata": {
        "id": "7fqj2bta46g3",
        "colab_type": "text"
      },
      "cell_type": "markdown",
      "source": [
        "$$y = -T_{low}\\frac{\\sigma_x}{\\sqrt{N}}$$"
      ]
    },
    {
      "metadata": {
        "id": "EG0JtXOr46g4",
        "colab_type": "code",
        "outputId": "93942244-0fe9-4666-ce43-1b11f20e6f54",
        "colab": {
          "base_uri": "https://localhost:8080/",
          "height": 34
        }
      },
      "cell_type": "code",
      "source": [
        "print(-scipy.stats.t.ppf(0.025, 4) * 3 / np.sqrt(5))"
      ],
      "execution_count": 0,
      "outputs": [
        {
          "output_type": "stream",
          "text": [
            "3.7249919946113006\n"
          ],
          "name": "stdout"
        }
      ]
    },
    {
      "metadata": {
        "id": "3yJ6TdcE46g-",
        "colab_type": "text"
      },
      "cell_type": "markdown",
      "source": [
        "La resposta final és $P(45 - 3.72 < 45 < 45 + 3.72) = 0.95$ $\\Rightarrow$ $45\\pm 3.72$"
      ]
    },
    {
      "metadata": {
        "id": "XW6pmTL146g_",
        "colab_type": "text"
      },
      "cell_type": "markdown",
      "source": [
        "Pasos pel càlcul d'intervals de confiança per la mitjana d'una població\n",
        "====\n",
        "\n",
        "1. Si la mida de la mostra és més gran que 25 o coneixes la desviació estàndard de la població utilitza la normal ($Z$). En cas contrari, fes servir la $t$-Student ($T$).\n",
        "2. Construeix l'interval en probabilitat. Per exemple, 95% simètric va de 2.5% a 97.5%\n",
        "3. Troba el $Z$ o $T$ valor que corresponen a l'interval. Per exemple, $Z_{low} = -1.96$, $Z_{high} = 1.96$ per un inverval simètric de 95% de confiança. Pots utilitzar funcions `scipy.stats.norm.ppf` o `scipy.stats.t.ppf` per trobar-los.\n",
        "4. Utilitza l'equació $Z(s) = s \\sqrt{N} / \\sigma_x$ or $T(s) = s \\sqrt{N} / \\sigma_x$ per trobar els valors de l'interval.\n",
        "5. Presenta la resposta en forma d'interval o amb la notació $\\pm$.\n"
      ]
    },
    {
      "metadata": {
        "id": "YvgO-F2l46hB",
        "colab_type": "text"
      },
      "cell_type": "markdown",
      "source": [
        "Exercici 1\n",
        "====\n",
        "\n",
        "Escriu el codi en Python que fa aquests pasos per una mostra que segueix una normal $\\mathcal{N}(\\mu=50,\\sigma=15)$ amb $N=100$."
      ]
    },
    {
      "metadata": {
        "id": "-8uEAWitEg5k",
        "colab_type": "code",
        "colab": {}
      },
      "cell_type": "code",
      "source": [
        "data = scipy.stats.norm.rvs(size=100, scale=15, loc=50)\n",
        "\n",
        "# Escriu un codi que trobi l'interval de confiança per \\mu al 95% a partir de data.\n",
        "# Com que N = 100, podem fer servir el TLC i fer servir Z en comptes de T."
      ],
      "execution_count": 0,
      "outputs": []
    },
    {
      "metadata": {
        "id": "X_QVZ32T46hC",
        "colab_type": "code",
        "cellView": "form",
        "colab": {}
      },
      "cell_type": "code",
      "source": [
        "#@title\n",
        "data = scipy.stats.norm.rvs(size=100, scale=15, loc=50)\n",
        "#Check if sample size is big enough.\n",
        "#This code will cause an error if it's not\n",
        "assert len(data) > 25 \n",
        "\n",
        "CI = 0.95\n",
        "sample_mean = np.mean(data)\n",
        "#The second argument specifies what the denominator should be (N - x),\n",
        "#where x is 1 in this case\n",
        "sample_var = np.var(data, ddof=1) \n",
        "Z = scipy.stats.norm.ppf((1 - CI) / 2)\n",
        "y = -Z * np.sqrt(sample_var / len(data))\n",
        "\n",
        "print('{} +/ {}'.format(sample_mean, y))\n",
        "\n",
        "                             "
      ],
      "execution_count": 0,
      "outputs": []
    },
    {
      "metadata": {
        "id": "FeynGqtZ46hI",
        "colab_type": "text"
      },
      "cell_type": "markdown",
      "source": [
        "Exercici 2\n",
        "====\n",
        "\n",
        "Escriu el codi en Python que fa aquests pasos per una mostra que segueix una normal $\\mathcal{N}(\\mu=50,\\sigma=15)$ amb $N=4$.\n"
      ]
    },
    {
      "metadata": {
        "id": "n0nfmAr1F4Df",
        "colab_type": "code",
        "colab": {}
      },
      "cell_type": "code",
      "source": [
        "data = scipy.stats.norm.rvs(size=4, scale=15, loc=50)\n",
        "\n",
        "# Escriu un codi que trobi l'interval de confiança per \\mu al 95% a partir de data.\n",
        "# Com que N = 4, haurem d'utilitzar T"
      ],
      "execution_count": 0,
      "outputs": []
    },
    {
      "metadata": {
        "id": "NDt1nx3F46hK",
        "colab_type": "code",
        "cellView": "form",
        "colab": {}
      },
      "cell_type": "code",
      "source": [
        "#@title\n",
        "data = scipy.stats.norm.rvs(size=4, scale=15, loc=50)\n",
        "CI = 0.95\n",
        "sample_mean = np.mean(data)\n",
        "sample_var = np.var(data, ddof=1) \n",
        "T = scipy.stats.t.ppf((1 - CI) / 2, df=len(data)-1)\n",
        "y = -T * np.sqrt(sample_var / len(data))\n",
        "\n",
        "print('{} +/ {}'.format(sample_mean, y))\n",
        "                             "
      ],
      "execution_count": 0,
      "outputs": []
    },
    {
      "metadata": {
        "id": "EWYoOAqT46hS",
        "colab_type": "text"
      },
      "cell_type": "markdown",
      "source": [
        "Exemple de predicció d'intervals\n",
        "====\n",
        "\n",
        "Si *sabem* que el gruix d'una llosa metàl·lica segueix una distribució ${\\cal N}(3.4, 0.75)$, construeix un interval de predicció tal que si escollim aleatòriament una llosa es trobarà dins l'interval amb un nivell de confiança del 95%."
      ]
    },
    {
      "metadata": {
        "id": "xPFZlypj46hU",
        "colab_type": "text"
      },
      "cell_type": "markdown",
      "source": [
        "$$P( \\mu - y < x < \\mu + y) = 0.95$$"
      ]
    },
    {
      "metadata": {
        "id": "eOUSpu5y46hV",
        "colab_type": "text"
      },
      "cell_type": "markdown",
      "source": [
        "Aquest serà un interval de predicció. Així doncs, estem calculant un interval sobre la distribució mateixa la qual coneixem completament."
      ]
    },
    {
      "metadata": {
        "id": "39Sc4q-RG1Qc",
        "colab_type": "text"
      },
      "cell_type": "markdown",
      "source": [
        "Resposta\n",
        "--"
      ]
    },
    {
      "metadata": {
        "id": "O80YG10w46hX",
        "colab_type": "text"
      },
      "cell_type": "markdown",
      "source": [
        "$$Z(\\mu + y) = \\frac{\\mu + y - \\mu}{\\sigma} \\Rightarrow y = \\sigma Z$$\n",
        "\n",
        "$$Z = 1.96$$\n",
        "\n",
        "$$x = \\mu \\pm 1.96 \\sigma = 3.4 \\pm 1.40$$"
      ]
    },
    {
      "metadata": {
        "id": "pYrCP2y046hZ",
        "colab_type": "text"
      },
      "cell_type": "markdown",
      "source": [
        "Una llosa escollida aleatòriament tindrà un gruix de $3.4 \\pm 1.40$ el 95% de les vegades."
      ]
    },
    {
      "metadata": {
        "id": "JPqiyWPj46hb",
        "colab_type": "text"
      },
      "cell_type": "markdown",
      "source": [
        "Exercici 3\n",
        "====\n",
        "\n",
        "Mesurem el gruix de 35 lloses i calculem $\\bar{x} = 3.38$. Si sabem que $\\sigma = 0.75$, construeix l'interval de confiança que conté la mitjana real $\\mu$ amb 99.9% de confiança.\n"
      ]
    },
    {
      "metadata": {
        "id": "O1PQHuQq46he",
        "colab_type": "text"
      },
      "cell_type": "markdown",
      "source": [
        "Sabem que $p(\\bar{x} - \\mu) \\sim {\\cal N}(0, \\sigma / \\sqrt{N})$. Volem trobar\n",
        "\n",
        "$$ P(-y < \\bar{x} - \\mu < +y) = 0.999$$"
      ]
    },
    {
      "metadata": {
        "id": "ysd_PvzjH9EW",
        "colab_type": "text"
      },
      "cell_type": "markdown",
      "source": [
        "Resposta\n",
        "--"
      ]
    },
    {
      "metadata": {
        "id": "reLRtZUaH-5O",
        "colab_type": "code",
        "colab": {}
      },
      "cell_type": "code",
      "source": [
        "CI = 0.999\n",
        "Z = scipy.stats.norm.ppf((1 - CI) / 2)\n",
        "print(\"Z = {}\".format(-Z))\n",
        "print(\"y = {}\".format(-Z*0.75/np.sqrt(35)))"
      ],
      "execution_count": 0,
      "outputs": []
    },
    {
      "metadata": {
        "id": "bKIToD4V46hh",
        "colab_type": "text"
      },
      "cell_type": "markdown",
      "source": [
        "$$ Z(+y) = \\frac{y - 0}{\\sigma_e} = \\frac{y}{\\sigma / \\sqrt{N}} \\Rightarrow y = \\frac{\\sigma}{\\sqrt{N}} Z$$\n",
        "\n",
        "$$y = \\frac{0.75}{\\sqrt{35}}3.29 = 0.417$$\n",
        "\n",
        "$$ \\mu - \\bar{x} = 0 \\pm 0.417$$\n",
        "\n",
        "$$ \\mu = 3.38 \\pm 0.417$$"
      ]
    },
    {
      "metadata": {
        "id": "15ggv8Hy46hi",
        "colab_type": "text"
      },
      "cell_type": "markdown",
      "source": [
        "Amb un nivell de confiança del 99.9%, $\\mu$ es troba a $3.38 \\pm 0.417$.\n"
      ]
    },
    {
      "metadata": {
        "id": "ZLgdrMdA46hj",
        "colab_type": "text"
      },
      "cell_type": "markdown",
      "source": [
        "Exercici 4\n",
        "====\n",
        "\n",
        "Mesurem el gruix d'11 lloses i trobem que $\\bar{x} = 5.64$. Si sabem que $\\sigma=1.2$, construeix l'interval de confiança que conté $\\mu$ amb 99% de confiança."
      ]
    },
    {
      "metadata": {
        "id": "M79lYQHO46hl",
        "colab_type": "text"
      },
      "cell_type": "markdown",
      "source": [
        "Com abans $p(\\bar{x} - \\mu) \\sim {\\cal N}(0, \\sigma / \\sqrt{N})$. Volem\n",
        "\n",
        "$$ P(-y < \\bar{x} - \\mu < +y) = 0.99$$"
      ]
    },
    {
      "metadata": {
        "id": "aSu0tmPtJgcH",
        "colab_type": "text"
      },
      "cell_type": "markdown",
      "source": [
        "Resposta\n",
        "--"
      ]
    },
    {
      "metadata": {
        "id": "KQNuN5m5Jk-S",
        "colab_type": "code",
        "colab": {}
      },
      "cell_type": "code",
      "source": [
        "CI = 0.99\n",
        "Z = scipy.stats.norm.ppf((1 - CI) / 2)\n",
        "print(\"Z = {}\".format(-Z))\n",
        "print(\"y = {}\".format(-Z*1.2/np.sqrt(11)))"
      ],
      "execution_count": 0,
      "outputs": []
    },
    {
      "metadata": {
        "id": "IHpAl7L_46hm",
        "colab_type": "text"
      },
      "cell_type": "markdown",
      "source": [
        "$$ Z(+y) = \\frac{y - 0}{\\sigma_e} = \\frac{y}{\\sigma / \\sqrt{N}} \\Rightarrow y = \\frac{\\sigma}{\\sqrt{N}} Z$$\n",
        "\n",
        "$$y = \\frac{1.2}{\\sqrt{11}}2.575 = 0.932$$\n",
        "\n",
        "$$ \\mu - \\bar{x} = 0 \\pm 0.932$$\n",
        "\n",
        "$$ \\mu = 5.64 \\pm 0.932$$"
      ]
    },
    {
      "metadata": {
        "id": "juR2nWX146hp",
        "colab_type": "text"
      },
      "cell_type": "markdown",
      "source": [
        "Exercici 5\n",
        "====\n",
        "\n",
        "Mesurem el gruix de 6 lloses de metall i trobem $\\bar{x} = 3.65$ i $\\sigma_x = 1.25$. Construeix l'interval de confiança que conté $\\mu$ un 90% de les vegades.\n"
      ]
    },
    {
      "metadata": {
        "id": "6cxNKyxlJ7Vi",
        "colab_type": "text"
      },
      "cell_type": "markdown",
      "source": [
        "Resposta\n",
        "--"
      ]
    },
    {
      "metadata": {
        "id": "YbWPFqmY46hq",
        "colab_type": "text"
      },
      "cell_type": "markdown",
      "source": [
        "$$T(+y) = \\frac{y - 0}{\\sigma_x / \\sqrt{N}} \\Rightarrow y = \\frac{\\sigma_x}{\\sqrt{N}} T$$"
      ]
    },
    {
      "metadata": {
        "id": "1G7Abhai46hs",
        "colab_type": "text"
      },
      "cell_type": "markdown",
      "source": [
        "Sabem que $p(\\bar{x} - \\mu) \\sim T(0, \\sigma_x / \\sqrt{N}$ ja que $N$ és petita. Volem trobar\n",
        "\n",
        "$$ P(-y < \\bar{x} - \\mu < +y) = 0.90$$"
      ]
    },
    {
      "metadata": {
        "id": "5SVQE40_46hw",
        "colab_type": "code",
        "colab": {}
      },
      "cell_type": "code",
      "source": [
        "T = scipy.stats.t.ppf(0.95, df=6-1)\n",
        "print(T)\n",
        "print(1.25*T/np.sqrt(6))"
      ],
      "execution_count": 0,
      "outputs": []
    },
    {
      "metadata": {
        "id": "CVFB6gNn46h1",
        "colab_type": "text"
      },
      "cell_type": "markdown",
      "source": [
        "$$ y = \\frac{1.25}{\\sqrt{6}} 2.015 = 1.028 $$\n",
        "$$\\mu = 3.65 \\pm 1.028$$"
      ]
    },
    {
      "metadata": {
        "id": "ryTV69wj46h5",
        "colab_type": "text"
      },
      "cell_type": "markdown",
      "source": [
        "$\\mu$ es trobarà a $3.65 \\pm 1.028$ el 90% de les vegades.\n"
      ]
    },
    {
      "metadata": {
        "id": "kOdmMdQR46h9",
        "colab_type": "text"
      },
      "cell_type": "markdown",
      "source": [
        "Exercici 6\n",
        "====\n",
        "\n",
        "Mesurem el gruix de 25 lloses de metall i trobem $\\bar{x} = 3.42$ i $\\sigma_x = 0.85$. Construeix l'interval de confiança per $\\mu$ amb un nivell de confiança del 90%.\n"
      ]
    },
    {
      "metadata": {
        "id": "hNAMW2otK1mm",
        "colab_type": "text"
      },
      "cell_type": "markdown",
      "source": [
        "Resposta\n",
        "--"
      ]
    },
    {
      "metadata": {
        "id": "svmWCSp046h-",
        "colab_type": "text"
      },
      "cell_type": "markdown",
      "source": [
        "Sabem que $P(\\bar{x} - \\mu) \\sim {\\cal N}(0, \\sigma_x / \\sqrt{N})$ ja que $N$ és suficientment gran per aplicar el TLC. Volem trobar\n",
        "\n",
        "$$ P(-y < \\bar{x} - \\mu < +y) = 0.90$$"
      ]
    },
    {
      "metadata": {
        "id": "UCYFMhOSLKrM",
        "colab_type": "code",
        "colab": {}
      },
      "cell_type": "code",
      "source": [
        "CI = 0.90\n",
        "Z = scipy.stats.norm.ppf((1 - CI) / 2)\n",
        "print(\"Z = {}\".format(-Z))\n",
        "print(\"y = {}\".format(-Z*0.85/np.sqrt(25)))"
      ],
      "execution_count": 0,
      "outputs": []
    },
    {
      "metadata": {
        "id": "YZLNDrf246iA",
        "colab_type": "text"
      },
      "cell_type": "markdown",
      "source": [
        "$$Z(+y) = \\frac{y - 0}{\\sigma_x / \\sqrt{N}} \\Rightarrow y = \\frac{\\sigma_x}{\\sqrt{N}} Z$$\n",
        "\n",
        "$$ y = \\frac{0.85}{\\sqrt{25}} 1.645 = 0.28$$\n",
        "\n",
        "$$\\mu = 3.42 \\pm 0.28$$"
      ]
    },
    {
      "metadata": {
        "id": "6njFBXWi46iB",
        "colab_type": "text"
      },
      "cell_type": "markdown",
      "source": [
        "Intervals de confiança no centrats\n",
        "===\n",
        "\n",
        "A vegades volem posar límits només per una banda de l'interval."
      ]
    },
    {
      "metadata": {
        "id": "zOKPZvUk46iC",
        "colab_type": "text"
      },
      "cell_type": "markdown",
      "source": [
        "Interval superior (fita inferior)\n",
        "--\n",
        "\n",
        "Un interval superior comprèn la part superior x% de la densitat de probabilitat i es pot definir com l'interval $(y,\\infty)$, on y és una fita inferior.  A continació es presenta el cas d'un interval superior de 90% de confiança.\n"
      ]
    },
    {
      "metadata": {
        "id": "gjC9lRAk46iD",
        "colab_type": "code",
        "outputId": "aaae058e-87fe-49ce-f920-03f3bcb053fb",
        "colab": {
          "base_uri": "https://localhost:8080/",
          "height": 365
        }
      },
      "cell_type": "code",
      "source": [
        "#make some points for plot\n",
        "N = 5\n",
        "x = np.linspace(-5,5, 1000)\n",
        "T = ss.t.ppf(0.10, df=N-1)\n",
        "y = ss.t.pdf(x, df=N-1)\n",
        "plt.plot(x,y)  \n",
        "plt.fill_between(x, y, where= x > T)\n",
        "plt.text(0,np.max(y) / 3, 'Area=0.90', fontdict={'size':14}, horizontalalignment='center')\n",
        "plt.axvline(T, linestyle='--', color='orange')\n",
        "plt.xticks([T], ['lower-bound'])\n",
        "plt.yticks([])\n",
        "plt.ylabel(r'$p(\\mu - \\bar{x})$')\n",
        "plt.xlabel(r'$\\mu - \\bar{x}$')\n",
        "plt.show()"
      ],
      "execution_count": 0,
      "outputs": [
        {
          "output_type": "display_data",
          "data": {
            "image/png": "[encoded data removed]",
            "text/plain": [
              "<Figure size 576x396 with 1 Axes>"
            ]
          },
          "metadata": {
            "tags": []
          }
        }
      ]
    },
    {
      "metadata": {
        "id": "ga6SHwe646iH",
        "colab_type": "text"
      },
      "cell_type": "markdown",
      "source": [
        "Interval inferior (fita superior)\n",
        "--\n",
        "\n",
        "Un interval inferior comprèn la part inferior x% de la densitat de probabilitat i es pot definir com l'interval $(-\\infty,y)$, on y és una fita superior.  A continació es presenta un exemple:"
      ]
    },
    {
      "metadata": {
        "id": "u6AHrbjZ46iI",
        "colab_type": "code",
        "outputId": "c1ea3b4b-9217-4430-b60c-88d72d3a4aed",
        "colab": {
          "base_uri": "https://localhost:8080/",
          "height": 365
        }
      },
      "cell_type": "code",
      "source": [
        "#make some points for plot\n",
        "N = 5\n",
        "x = np.linspace(-5,5, 1000)\n",
        "T = ss.t.ppf(0.90, df=N-1)\n",
        "y = ss.t.pdf(x, df=N-1)\n",
        "plt.plot(x,y)  \n",
        "plt.fill_between(x, y, where= x < T)\n",
        "plt.text(0,np.max(y) / 3, 'Area=0.90', fontdict={'size':14}, horizontalalignment='center')\n",
        "plt.axvline(T, linestyle='--', color='orange')\n",
        "plt.xticks([T], ['upper-bound'])\n",
        "plt.yticks([])\n",
        "plt.ylabel(r'$p(\\mu - \\bar{x})$')\n",
        "plt.xlabel(r'$\\mu - \\bar{x}$')\n",
        "plt.show()"
      ],
      "execution_count": 0,
      "outputs": [
        {
          "output_type": "display_data",
          "data": {
            "image/png": "[encoded data removed]",
            "text/plain": [
              "<Figure size 576x396 with 1 Axes>"
            ]
          },
          "metadata": {
            "tags": []
          }
        }
      ]
    },
    {
      "metadata": {
        "id": "M81ubXNAOT8i",
        "colab_type": "text"
      },
      "cell_type": "markdown",
      "source": [
        "Exercici 7\n",
        "===\n",
        "\n",
        "Prenem una mostra de mida $N = 100$ i trobem $\\bar{x} = 50$ i $\\sigma_x = 10$. Calcula l'interval superior de confiança per $\\mu$ amb un nivell del 95%."
      ]
    },
    {
      "metadata": {
        "id": "AC9pExyzPRCW",
        "colab_type": "text"
      },
      "cell_type": "markdown",
      "source": [
        "Resposta\n",
        "--"
      ]
    },
    {
      "metadata": {
        "id": "momneyb-P3j4",
        "colab_type": "text"
      },
      "cell_type": "markdown",
      "source": [
        "Volem $$P(-y < \\bar{x} - \\mu < \\infty) = 0.95$$\n",
        "\n",
        "Sabem que la probabilitat segueix $\\cal{N}(0,\\sigma_x/\\sqrt{N})$"
      ]
    },
    {
      "metadata": {
        "id": "yAPxbDqPMz37",
        "colab_type": "code",
        "outputId": "d39241fe-6c62-4c0f-807a-e7235c72b8d1",
        "colab": {
          "base_uri": "https://localhost:8080/",
          "height": 68
        }
      },
      "cell_type": "code",
      "source": [
        "CI = 0.95\n",
        "Z = scipy.stats.norm.ppf((1 - CI))\n",
        "y = -Z*10/np.sqrt(100)\n",
        "print(\"Z = {}\".format(-Z))\n",
        "print(\"y = {}\".format(y))\n",
        "print(50 - y)"
      ],
      "execution_count": 0,
      "outputs": [
        {
          "output_type": "stream",
          "text": [
            "Z = 1.6448536269514722\n",
            "y = 1.6448536269514722\n",
            "48.35514637304853\n"
          ],
          "name": "stdout"
        }
      ]
    },
    {
      "metadata": {
        "id": "5yN6TsK6QUxd",
        "colab_type": "text"
      },
      "cell_type": "markdown",
      "source": [
        "$$ y = \\frac{10}{\\sqrt{100}} 1.645 = 1.645$$\n",
        "\n",
        "$\\mu \\in (48.36,\\infty)$ amb un 90% de confiança."
      ]
    }
  ]
}