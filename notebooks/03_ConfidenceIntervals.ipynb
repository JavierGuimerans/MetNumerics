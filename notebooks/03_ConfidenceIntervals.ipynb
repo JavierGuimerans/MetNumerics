{
  "nbformat": 4,
  "nbformat_minor": 0,
  "metadata": {
    "colab": {
      "name": "lecture_2.ipynb",
      "version": "0.3.2",
      "provenance": [],
      "collapsed_sections": [],
      "include_colab_link": true
    },
    "kernelspec": {
      "display_name": "Python 3",
      "language": "python",
      "name": "python3"
    }
  },
  "cells": [
    {
      "cell_type": "markdown",
      "metadata": {
        "id": "view-in-github",
        "colab_type": "text"
      },
      "source": [
        "<a href=\"https://colab.research.google.com/github/sergiogf93/MetNumerics/blob/master/notebooks/03_ConfidenceIntervals.ipynb\" target=\"_parent\"><img src=\"https://colab.research.google.com/assets/colab-badge.svg\" alt=\"Open In Colab\"/></a>"
      ]
    },
    {
      "cell_type": "markdown",
      "metadata": {
        "id": "h-BkHE9K46gd",
        "colab_type": "text"
      },
      "source": [
        "Computació d'intervals de confiança\n",
        "===\n",
        "\n",
        "Sabem que l'error de la mitjana d'una població segueix una $t$-Student per $N$ petit. Què fem si volem un interval de confiança on es trobi el valor real de la mitjana?\n"
      ]
    },
    {
      "cell_type": "markdown",
      "metadata": {
        "id": "_fBJzezq46gf",
        "colab_type": "text"
      },
      "source": [
        "$$P(a < \\mu < b) = 0.95$$\n",
        "\n",
        "Una simplificació immediata que podem fer és que sabem que $\\mu$ estarà centrada a $\\bar{x}$ simètricament.\n",
        "\n",
        "$$P( \\bar{x} - y < \\mu<  \\bar{x} + y) = 0.95$$\n",
        "\n",
        "on $y$ és un nombre que volem trobar. Això es pot rescriure com:\n",
        "\n",
        "$$P( \\frac{- y}{\\sigma_x / \\sqrt{N}} < \\frac{\\mu - \\bar{x}}{\\sigma_x / \\sqrt{N}}<  \\frac{y}{\\sigma_x / \\sqrt{N}}) = 0.95$$\n",
        "\n",
        "que sabem que està distribuït com la $t$-Student. Noteu que això són probabilitats, que corresponen a l'integral de la densitat de probabilitat.\n"
      ]
    },
    {
      "cell_type": "markdown",
      "metadata": {
        "id": "VFYKyKqL46gg",
        "colab_type": "text"
      },
      "source": [
        "A continació visualitzem quin és l'objectiu. Noteu que aquí es troba la resposta al problema per poder fer la gràfica així que espereu fins més tard per entendre el codi!\n"
      ]
    },
    {
      "cell_type": "code",
      "metadata": {
        "id": "qP1tuo3646gh",
        "colab_type": "code",
        "outputId": "72b210be-e994-4dec-beda-3663c68d3e1e",
        "colab": {
          "base_uri": "https://localhost:8080/",
          "height": 287
        }
      },
      "source": [
        "import scipy.stats as ss\n",
        "import numpy as np\n",
        "import matplotlib.pyplot as plt\n",
        "\n",
        "#make some points for plot\n",
        "N = 5\n",
        "x = np.linspace(-5,5, 1000)\n",
        "T = ss.t.ppf(0.975, df=N-1)\n",
        "y = ss.t.pdf(x, df=N-1)\n",
        "plt.plot(x,y)  \n",
        "plt.fill_between(x, y, where= np.abs(x) < T)\n",
        "plt.text(0,np.max(y) / 3, 'Area=0.95', fontdict={'size':14}, horizontalalignment='center')\n",
        "plt.axvline(T, linestyle='--', color='orange')\n",
        "plt.axvline(-T, linestyle='--', color='orange')\n",
        "plt.xticks([-T, T], ['-y', 'y'])\n",
        "plt.yticks([])\n",
        "plt.ylabel(r'$p(\\mu - \\bar{x})$')\n",
        "plt.xlabel(r'$\\mu - \\bar{x}$')\n",
        "plt.show()"
      ],
      "execution_count": 1,
      "outputs": [
        {
          "output_type": "display_data",
          "data": {
            "image/png": "[encoded data removed]",
            "text/plain": [
              "<Figure size 432x288 with 1 Axes>"
            ]
          },
          "metadata": {
            "tags": []
          }
        }
      ]
    },
    {
      "cell_type": "markdown",
      "metadata": {
        "id": "MhpAuQOY46gq",
        "colab_type": "text"
      },
      "source": [
        "La idea és que sabem que $p(\\frac{\\mu - \\bar{x}}{\\sigma_x /\\sqrt{N}} \\sim T(0, 1)$ i per tant necessitem el percentil $T$ corresponent al nivell de confiança que volem.\n"
      ]
    },
    {
      "cell_type": "markdown",
      "metadata": {
        "id": "n2e4IdDw46gr",
        "colab_type": "text"
      },
      "source": [
        "\n",
        "\n",
        "$$T(s) = \\frac{s - 0}{\\sigma_x / \\sqrt{N}}$$\n",
        "\n",
        "La mitjana del error en la distribució de la mitjana de la població és 0, ja que el nostre error en la mitjana de la població està semple centrat a 0."
      ]
    },
    {
      "cell_type": "markdown",
      "metadata": {
        "id": "hUuK7Tzd46gs",
        "colab_type": "text"
      },
      "source": [
        "Suposem que després de pendre 5 mostres, hem trobat que la mitjana mostral és 45 i que la desviació estàndard de la mostra és $\\sigma_x = 3$. Quin és l'interval de confiança de $\\mu$ a un nivell de confiança del 95%?"
      ]
    },
    {
      "cell_type": "markdown",
      "metadata": {
        "id": "2Ki3c1he46gu",
        "colab_type": "text"
      },
      "source": [
        "Com hem vist abans:\n",
        "\n",
        "$$P( \\frac{- y}{\\sigma_x / \\sqrt{N}} < \\frac{\\mu - \\bar{x}}{\\sigma_x / \\sqrt{N}}<  \\frac{y}{\\sigma_x / \\sqrt{N}}) = 0.95$$"
      ]
    },
    {
      "cell_type": "markdown",
      "metadata": {
        "id": "hEuMR43m46gv",
        "colab_type": "text"
      },
      "source": [
        "El nostre interval anirà de 2.5% a 97.5% (95% de probabilitat), així doncs, hem de trobar el $T$-valor per $[-\\infty,2.5]$ i de $[97.5, \\infty]$. Recordeu que el $T$-valor depèn dels graus de llibertat N-1."
      ]
    },
    {
      "cell_type": "code",
      "metadata": {
        "id": "865Fkg-o46gw",
        "colab_type": "code",
        "outputId": "55ce9fd9-257d-41ae-faa3-13ebaadfa343",
        "colab": {
          "base_uri": "https://localhost:8080/",
          "height": 51
        }
      },
      "source": [
        "import scipy.stats\n",
        "\n",
        "#The lower T Value. YOU MUST GIVE THE SAMPLE NUMBER\n",
        "print(scipy.stats.t.ppf(0.025, 4))\n",
        "print(scipy.stats.t.ppf(0.975, 4))"
      ],
      "execution_count": 2,
      "outputs": [
        {
          "output_type": "stream",
          "text": [
            "-2.7764451051977996\n",
            "2.7764451051977987\n"
          ],
          "name": "stdout"
        }
      ]
    },
    {
      "cell_type": "markdown",
      "metadata": {
        "id": "Oq_5LiGy46g1",
        "colab_type": "text"
      },
      "source": [
        "$$|T| = \\frac{y - 0}{\\sigma_x / \\sqrt{N}}$$\n",
        "$$|T| = \\frac{y}{\\sigma_x / \\sqrt{N}}$$"
      ]
    },
    {
      "cell_type": "markdown",
      "metadata": {
        "id": "7fqj2bta46g3",
        "colab_type": "text"
      },
      "source": [
        "$$y = |T|\\frac{\\sigma_x}{\\sqrt{N}}$$"
      ]
    },
    {
      "cell_type": "code",
      "metadata": {
        "id": "EG0JtXOr46g4",
        "colab_type": "code",
        "outputId": "c5b2eb51-e2fd-44c8-de09-b871a91d0de5",
        "colab": {
          "base_uri": "https://localhost:8080/",
          "height": 34
        }
      },
      "source": [
        "print(abs(scipy.stats.t.ppf(0.025, 4)) * 3 / np.sqrt(5))"
      ],
      "execution_count": 4,
      "outputs": [
        {
          "output_type": "stream",
          "text": [
            "3.7249919946113006\n"
          ],
          "name": "stdout"
        }
      ]
    },
    {
      "cell_type": "markdown",
      "metadata": {
        "id": "3yJ6TdcE46g-",
        "colab_type": "text"
      },
      "source": [
        "La resposta final és $P(45 - 3.72 < 45 < 45 + 3.72) = 0.95$ $\\Rightarrow$ $45\\pm 3.72$"
      ]
    },
    {
      "cell_type": "markdown",
      "metadata": {
        "id": "XW6pmTL146g_",
        "colab_type": "text"
      },
      "source": [
        "Pasos pel càlcul d'intervals de confiança per la mitjana d'una població\n",
        "====\n",
        "\n",
        "1. Si la mida de la mostra és més gran que 25 o coneixes la desviació estàndard de la població utilitza la normal ($Z$). En cas contrari, fes servir la $t$-Student ($T$).\n",
        "2. Construeix l'interval en probabilitat. Per exemple, 95% simètric va de 2.5% a 97.5%\n",
        "3. Troba el $Z$ o $T$ valor que corresponen a l'interval. Per exemple, $Z_{low} = -1.96$, $Z_{high} = 1.96$ per un inverval simètric de 95% de confiança. Pots utilitzar funcions `scipy.stats.norm.ppf` o `scipy.stats.t.ppf` per trobar-los.\n",
        "4. Utilitza l'equació $Z(s) = |s| \\cdot\\sigma_x/\\sqrt{N}$ or $T(s) = |s|\\cdot \\sigma_x/\\sqrt{N}$ per trobar els valors de l'interval.\n",
        "5. Presenta la resposta en forma d'interval o amb la notació $\\pm$.\n"
      ]
    },
    {
      "cell_type": "markdown",
      "metadata": {
        "id": "YvgO-F2l46hB",
        "colab_type": "text"
      },
      "source": [
        "Exercici 1\n",
        "====\n",
        "Escriu el codi en Python que fa aquests pasos per una mostra que segueix una normal $\\mathcal{N}(\\mu=50,\\sigma=15)$ amb $N=4$.\n",
        "\n"
      ]
    },
    {
      "cell_type": "code",
      "metadata": {
        "id": "6paMzkwHbbh1",
        "colab_type": "code",
        "colab": {}
      },
      "source": [
        "?np.mean"
      ],
      "execution_count": 0,
      "outputs": []
    },
    {
      "cell_type": "code",
      "metadata": {
        "id": "3IHAX_WubQTz",
        "colab_type": "code",
        "colab": {}
      },
      "source": [
        "?np.var"
      ],
      "execution_count": 0,
      "outputs": []
    },
    {
      "cell_type": "code",
      "metadata": {
        "id": "-8uEAWitEg5k",
        "colab_type": "code",
        "colab": {}
      },
      "source": [
        "data = scipy.stats.norm.rvs(size=4, scale=15, loc=50)\n",
        "\n",
        "# Escriu un codi que trobi l'interval de confiança per \\mu al 95% a partir de data.\n",
        "# Com que N = 4, haurem d'utilitzar T\n"
      ],
      "execution_count": 0,
      "outputs": []
    },
    {
      "cell_type": "code",
      "metadata": {
        "id": "X_QVZ32T46hC",
        "colab_type": "code",
        "cellView": "form",
        "colab": {}
      },
      "source": [
        "#@title\n",
        "data = scipy.stats.norm.rvs(size=4, scale=15, loc=50)\n",
        "CI = 0.95\n",
        "sample_mean = np.mean(data)\n",
        "sample_var = np.var(data, ddof=1) \n",
        "T = scipy.stats.t.ppf((1 - CI) / 2, df=len(data)-1)\n",
        "y = abs(T) * np.sqrt(sample_var / len(data))\n",
        "\n",
        "print('{} +/ {}'.format(sample_mean, y))\n",
        "                             "
      ],
      "execution_count": 0,
      "outputs": []
    },
    {
      "cell_type": "markdown",
      "metadata": {
        "colab_type": "text",
        "id": "fATXMWobatuT"
      },
      "source": [
        "Exercici 2\n",
        "====\n",
        "\n",
        "Escriu el codi en Python que fa aquests pasos per una mostra que segueix una normal $\\mathcal{N}(\\mu=50,\\sigma=15)$ amb $N=100$.\n"
      ]
    },
    {
      "cell_type": "code",
      "metadata": {
        "colab_type": "code",
        "id": "C-009z3natuH",
        "colab": {}
      },
      "source": [
        "data = scipy.stats.norm.rvs(size=100, scale=15, loc=50)\n",
        "\n",
        "# Escriu un codi que trobi l'interval de confiança per \\mu al 95% a partir de data.\n",
        "# Com que N = 100, podem fer servir el TLC i fer servir Z en comptes de T."
      ],
      "execution_count": 0,
      "outputs": []
    },
    {
      "cell_type": "code",
      "metadata": {
        "colab_type": "code",
        "cellView": "form",
        "id": "l3PNvx11attZ",
        "colab": {}
      },
      "source": [
        "#@title\n",
        "data = scipy.stats.norm.rvs(size=100, scale=15, loc=50)\n",
        "#Check if sample size is big enough.\n",
        "#This code will cause an error if it's not\n",
        "assert len(data) > 25 \n",
        "\n",
        "CI = 0.95\n",
        "sample_mean = np.mean(data)\n",
        "#The second argument specifies what the denominator should be (N - x),\n",
        "#where x is 1 in this case\n",
        "sample_var = np.var(data, ddof=1) \n",
        "Z = scipy.stats.norm.ppf((1 - CI) / 2)\n",
        "y = abs(Z) * np.sqrt(sample_var / len(data))\n",
        "\n",
        "print('{} +/ {}'.format(sample_mean, y))\n",
        "\n",
        "                            "
      ],
      "execution_count": 0,
      "outputs": []
    },
    {
      "cell_type": "markdown",
      "metadata": {
        "id": "EWYoOAqT46hS",
        "colab_type": "text"
      },
      "source": [
        "Exemple de predicció d'intervals\n",
        "====\n",
        "\n",
        "Si *sabem* que el gruix d'una llosa metàl·lica segueix una distribució ${\\cal N}(3.4, 0.75)$, construeix un interval de predicció tal que si escollim aleatòriament una llosa es trobarà dins l'interval amb un nivell de confiança del 95%."
      ]
    },
    {
      "cell_type": "markdown",
      "metadata": {
        "id": "xPFZlypj46hU",
        "colab_type": "text"
      },
      "source": [
        "$$P( \\mu - y < x < \\mu + y) = 0.95$$"
      ]
    },
    {
      "cell_type": "markdown",
      "metadata": {
        "id": "eOUSpu5y46hV",
        "colab_type": "text"
      },
      "source": [
        "Aquest serà un interval de predicció. Així doncs, estem calculant un interval sobre la distribució mateixa la qual coneixem completament."
      ]
    },
    {
      "cell_type": "markdown",
      "metadata": {
        "id": "39Sc4q-RG1Qc",
        "colab_type": "text"
      },
      "source": [
        "Resposta\n",
        "--"
      ]
    },
    {
      "cell_type": "markdown",
      "metadata": {
        "id": "O80YG10w46hX",
        "colab_type": "text"
      },
      "source": [
        "$$Z(\\mu + y) = \\frac{\\mu + y - \\mu}{\\sigma} \\Rightarrow y = \\sigma Z$$\n",
        "\n",
        "$$Z = 1.96$$\n",
        "\n",
        "$$x = \\mu \\pm 1.96 \\sigma = 3.4 \\pm 1.40$$"
      ]
    },
    {
      "cell_type": "markdown",
      "metadata": {
        "id": "pYrCP2y046hZ",
        "colab_type": "text"
      },
      "source": [
        "Una llosa escollida aleatòriament tindrà un gruix de $3.4 \\pm 1.40$ el 95% de les vegades."
      ]
    },
    {
      "cell_type": "markdown",
      "metadata": {
        "id": "JPqiyWPj46hb",
        "colab_type": "text"
      },
      "source": [
        "Exercici 3\n",
        "====\n",
        "\n",
        "Mesurem el gruix de 35 lloses i calculem $\\bar{x} = 3.38$. Si sabem que $\\sigma = 0.75$, construeix l'interval de confiança que conté la mitjana real $\\mu$ amb 99.9% de confiança.\n"
      ]
    },
    {
      "cell_type": "markdown",
      "metadata": {
        "id": "O1PQHuQq46he",
        "colab_type": "text"
      },
      "source": [
        "Sabem que $p(\\bar{x} - \\mu) \\sim {\\cal N}(0, \\sigma / \\sqrt{N})$. Volem trobar\n",
        "\n",
        "$$ P(-y < \\bar{x} - \\mu < +y) = 0.999$$"
      ]
    },
    {
      "cell_type": "markdown",
      "metadata": {
        "id": "ysd_PvzjH9EW",
        "colab_type": "text"
      },
      "source": [
        "Resposta\n",
        "--"
      ]
    },
    {
      "cell_type": "code",
      "metadata": {
        "id": "_vflxP6Hcoew",
        "colab_type": "code",
        "colab": {}
      },
      "source": [
        "#Escriu aquí el codi"
      ],
      "execution_count": 0,
      "outputs": []
    },
    {
      "cell_type": "code",
      "metadata": {
        "id": "reLRtZUaH-5O",
        "colab_type": "code",
        "colab": {},
        "cellView": "form"
      },
      "source": [
        "#@title\n",
        "N = 35\n",
        "sample_mean = 3.38\n",
        "sample_sigma = 0.75\n",
        "CI = 0.999\n",
        "Z = abs(scipy.stats.norm.ppf((1 - CI) / 2))\n",
        "y = Z*sample_sigma/np.sqrt(N)\n",
        "print(\"Z = {}\".format(Z))\n",
        "print(\"mu = {} +/- {}\".format(sample_mean,y))\n"
      ],
      "execution_count": 0,
      "outputs": []
    },
    {
      "cell_type": "markdown",
      "metadata": {
        "id": "15ggv8Hy46hi",
        "colab_type": "text"
      },
      "source": [
        "Amb un nivell de confiança del 99.9%, $\\mu$ es troba a $3.38 \\pm 0.417$.\n"
      ]
    },
    {
      "cell_type": "markdown",
      "metadata": {
        "id": "ZLgdrMdA46hj",
        "colab_type": "text"
      },
      "source": [
        "Exercici 4\n",
        "====\n",
        "\n",
        "Mesurem el gruix d'11 lloses i trobem que $\\bar{x} = 5.64$. Si sabem que $\\sigma=1.2$, construeix l'interval de confiança que conté $\\mu$ amb 99% de confiança."
      ]
    },
    {
      "cell_type": "markdown",
      "metadata": {
        "id": "M79lYQHO46hl",
        "colab_type": "text"
      },
      "source": [
        "Com abans $p(\\bar{x} - \\mu) \\sim {\\cal N}(0, \\sigma / \\sqrt{N})$. Volem\n",
        "\n",
        "$$ P(-y < \\bar{x} - \\mu < +y) = 0.99$$"
      ]
    },
    {
      "cell_type": "markdown",
      "metadata": {
        "id": "aSu0tmPtJgcH",
        "colab_type": "text"
      },
      "source": [
        "Resposta\n",
        "--"
      ]
    },
    {
      "cell_type": "code",
      "metadata": {
        "id": "nWFd0vaUc9K8",
        "colab_type": "code",
        "colab": {}
      },
      "source": [
        "#Escriu aquí el codi"
      ],
      "execution_count": 0,
      "outputs": []
    },
    {
      "cell_type": "code",
      "metadata": {
        "id": "KQNuN5m5Jk-S",
        "colab_type": "code",
        "colab": {},
        "cellView": "form"
      },
      "source": [
        "#@title\n",
        "N = 11\n",
        "sample_mean = 5.64\n",
        "sample_sigma = 1.2\n",
        "CI = 0.99\n",
        "Z = abs(scipy.stats.t.ppf((1 - CI) / 2,N-1))\n",
        "y = Z*sample_sigma/np.sqrt(N)\n",
        "print(\"Z = {}\".format(Z))\n",
        "print(\"mu = {} +/- {}\".format(sample_mean,y))\n"
      ],
      "execution_count": 0,
      "outputs": []
    },
    {
      "cell_type": "markdown",
      "metadata": {
        "id": "juR2nWX146hp",
        "colab_type": "text"
      },
      "source": [
        "Exercici 5\n",
        "====\n",
        "\n",
        "Mesurem el gruix de 6 lloses de metall i trobem $\\bar{x} = 3.65$ i $\\sigma_x = 1.25$. Construeix l'interval de confiança que conté $\\mu$ un 90% de les vegades.\n"
      ]
    },
    {
      "cell_type": "markdown",
      "metadata": {
        "id": "6cxNKyxlJ7Vi",
        "colab_type": "text"
      },
      "source": [
        "Resposta\n",
        "--"
      ]
    },
    {
      "cell_type": "code",
      "metadata": {
        "id": "K2vCEwaJdrBd",
        "colab_type": "code",
        "colab": {}
      },
      "source": [
        "#Escriu el teu codi aquí"
      ],
      "execution_count": 0,
      "outputs": []
    },
    {
      "cell_type": "code",
      "metadata": {
        "id": "5SVQE40_46hw",
        "colab_type": "code",
        "colab": {},
        "cellView": "form"
      },
      "source": [
        "#@title\n",
        "N = 6\n",
        "sample_mean = 3.65\n",
        "sample_sigma = 1.25\n",
        "CI = 0.9\n",
        "Z = abs(scipy.stats.t.ppf((1 - CI) / 2,N-1))\n",
        "y = Z*sample_sigma/np.sqrt(N)\n",
        "print(\"Z = {}\".format(Z))\n",
        "print(\"mu = {} +/- {}\".format(sample_mean,y))\n"
      ],
      "execution_count": 0,
      "outputs": []
    },
    {
      "cell_type": "markdown",
      "metadata": {
        "id": "kOdmMdQR46h9",
        "colab_type": "text"
      },
      "source": [
        "Exercici 6\n",
        "====\n",
        "\n",
        "Mesurem el gruix de 25 lloses de metall i trobem $\\bar{x} = 3.42$ i $\\sigma_x = 0.85$. Construeix l'interval de confiança per $\\mu$ amb un nivell de confiança del 90%.\n"
      ]
    },
    {
      "cell_type": "markdown",
      "metadata": {
        "id": "hNAMW2otK1mm",
        "colab_type": "text"
      },
      "source": [
        "Resposta\n",
        "--"
      ]
    },
    {
      "cell_type": "code",
      "metadata": {
        "id": "jgGYgmVed490",
        "colab_type": "code",
        "colab": {}
      },
      "source": [
        "# Escriu el teu codi aquí"
      ],
      "execution_count": 0,
      "outputs": []
    },
    {
      "cell_type": "code",
      "metadata": {
        "id": "UCYFMhOSLKrM",
        "colab_type": "code",
        "colab": {},
        "cellView": "form"
      },
      "source": [
        "#@title\n",
        "N = 25\n",
        "sample_mean = 3.42\n",
        "sample_sigma = 0.85\n",
        "CI = 0.9\n",
        "Z = abs(scipy.stats.norm.ppf((1 - CI) / 2))\n",
        "y = Z*sample_sigma/np.sqrt(N)\n",
        "print(\"Z = {}\".format(Z))\n",
        "print(\"mu = {} +/- {}\".format(sample_mean,y))\n"
      ],
      "execution_count": 0,
      "outputs": []
    },
    {
      "cell_type": "markdown",
      "metadata": {
        "id": "6njFBXWi46iB",
        "colab_type": "text"
      },
      "source": [
        "Intervals de confiança no centrats\n",
        "===\n",
        "\n",
        "A vegades volem posar límits només per una banda de l'interval."
      ]
    },
    {
      "cell_type": "markdown",
      "metadata": {
        "id": "zOKPZvUk46iC",
        "colab_type": "text"
      },
      "source": [
        "Interval superior (fita inferior)\n",
        "--\n",
        "\n",
        "Un interval superior comprèn la part superior x% de la densitat de probabilitat i es pot definir com l'interval $(y,\\infty)$, on y és una fita inferior.  A continació es presenta el cas d'un interval superior de 90% de confiança.\n"
      ]
    },
    {
      "cell_type": "code",
      "metadata": {
        "id": "gjC9lRAk46iD",
        "colab_type": "code",
        "outputId": "aaae058e-87fe-49ce-f920-03f3bcb053fb",
        "colab": {
          "base_uri": "https://localhost:8080/",
          "height": 365
        }
      },
      "source": [
        "#make some points for plot\n",
        "N = 5\n",
        "x = np.linspace(-5,5, 1000)\n",
        "T = ss.t.ppf(0.10, df=N-1)\n",
        "y = ss.t.pdf(x, df=N-1)\n",
        "plt.plot(x,y)  \n",
        "plt.fill_between(x, y, where= x > T)\n",
        "plt.text(0,np.max(y) / 3, 'Area=0.90', fontdict={'size':14}, horizontalalignment='center')\n",
        "plt.axvline(T, linestyle='--', color='orange')\n",
        "plt.xticks([T], ['lower-bound'])\n",
        "plt.yticks([])\n",
        "plt.ylabel(r'$p(\\mu - \\bar{x})$')\n",
        "plt.xlabel(r'$\\mu - \\bar{x}$')\n",
        "plt.show()"
      ],
      "execution_count": 0,
      "outputs": [
        {
          "output_type": "display_data",
          "data": {
            "image/png": "[encoded data removed]",
            "text/plain": [
              "<Figure size 576x396 with 1 Axes>"
            ]
          },
          "metadata": {
            "tags": []
          }
        }
      ]
    },
    {
      "cell_type": "markdown",
      "metadata": {
        "id": "ga6SHwe646iH",
        "colab_type": "text"
      },
      "source": [
        "Interval inferior (fita superior)\n",
        "--\n",
        "\n",
        "Un interval inferior comprèn la part inferior x% de la densitat de probabilitat i es pot definir com l'interval $(-\\infty,y)$, on y és una fita superior.  A continació es presenta un exemple:"
      ]
    },
    {
      "cell_type": "code",
      "metadata": {
        "id": "u6AHrbjZ46iI",
        "colab_type": "code",
        "outputId": "c1ea3b4b-9217-4430-b60c-88d72d3a4aed",
        "colab": {
          "base_uri": "https://localhost:8080/",
          "height": 365
        }
      },
      "source": [
        "#make some points for plot\n",
        "N = 5\n",
        "x = np.linspace(-5,5, 1000)\n",
        "T = ss.t.ppf(0.90, df=N-1)\n",
        "y = ss.t.pdf(x, df=N-1)\n",
        "plt.plot(x,y)  \n",
        "plt.fill_between(x, y, where= x < T)\n",
        "plt.text(0,np.max(y) / 3, 'Area=0.90', fontdict={'size':14}, horizontalalignment='center')\n",
        "plt.axvline(T, linestyle='--', color='orange')\n",
        "plt.xticks([T], ['upper-bound'])\n",
        "plt.yticks([])\n",
        "plt.ylabel(r'$p(\\mu - \\bar{x})$')\n",
        "plt.xlabel(r'$\\mu - \\bar{x}$')\n",
        "plt.show()"
      ],
      "execution_count": 0,
      "outputs": [
        {
          "output_type": "display_data",
          "data": {
            "image/png": "[encoded data removed]",
            "text/plain": [
              "<Figure size 576x396 with 1 Axes>"
            ]
          },
          "metadata": {
            "tags": []
          }
        }
      ]
    },
    {
      "cell_type": "markdown",
      "metadata": {
        "id": "M81ubXNAOT8i",
        "colab_type": "text"
      },
      "source": [
        "Exercici 7\n",
        "===\n",
        "\n",
        "Prenem una mostra de mida $N = 100$ i trobem $\\bar{x} = 50$ i $\\sigma_x = 10$. Calcula l'interval superior de confiança per $\\mu$ amb un nivell del 95%."
      ]
    },
    {
      "cell_type": "markdown",
      "metadata": {
        "id": "AC9pExyzPRCW",
        "colab_type": "text"
      },
      "source": [
        "Resposta\n",
        "--"
      ]
    },
    {
      "cell_type": "markdown",
      "metadata": {
        "id": "momneyb-P3j4",
        "colab_type": "text"
      },
      "source": [
        "Volem $$P(-y < \\bar{x} - \\mu < \\infty) = 0.95$$\n",
        "\n",
        "Sabem que la probabilitat segueix $\\cal{N}(0,\\sigma_x/\\sqrt{N})$"
      ]
    },
    {
      "cell_type": "code",
      "metadata": {
        "id": "yAPxbDqPMz37",
        "colab_type": "code",
        "outputId": "04b2e530-1aba-4b75-c7d2-0a68e7891acb",
        "colab": {
          "base_uri": "https://localhost:8080/",
          "height": 68
        }
      },
      "source": [
        "CI = 0.95\n",
        "Z = scipy.stats.norm.ppf((1 - CI))\n",
        "y = -Z*10/np.sqrt(100)\n",
        "print(\"Z = {}\".format(-Z))\n",
        "print(\"y = {}\".format(y))\n",
        "print(50 - y)"
      ],
      "execution_count": 28,
      "outputs": [
        {
          "output_type": "stream",
          "text": [
            "Z = 1.6448536269514722\n",
            "y = 1.6448536269514722\n",
            "48.35514637304853\n"
          ],
          "name": "stdout"
        }
      ]
    },
    {
      "cell_type": "markdown",
      "metadata": {
        "id": "5yN6TsK6QUxd",
        "colab_type": "text"
      },
      "source": [
        "$$ y = \\frac{10}{\\sqrt{100}} 1.645 = 1.645$$\n",
        "\n",
        "$\\mu \\in (48.36,\\infty)$ amb un 90% de confiança."
      ]
    }
  ]
}